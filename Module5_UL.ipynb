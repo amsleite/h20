{
 "cells": [
  {
   "cell_type": "markdown",
   "metadata": {},
   "source": [
    "# MODULO 5 - Dimensionality Reduction"
   ]
  },
  {
   "cell_type": "markdown",
   "metadata": {},
   "source": [
    "In the other modules we've seen a number of Machine Learning algorithms but we've always applied a SUPERVISED learning pipeline meaning we've always had a \"LABEL\" - or \"the correct answer\" for a number of observations\n",
    "\n",
    "\n",
    "With UNSUPERVISED Learning we don't have \"the correct answer\", there is no \"label\".\n",
    "Humans deal with this situation all the time and in this module we'll see how we can deal with this in Machine Learning as well\n",
    "\n",
    "A) Clustering \n",
    "  - grouping things based on similarities\n",
    "  - people do this all the time but it is also lead to Bias or even stereotyping \n",
    "\n",
    "B) Dimension Reduction\n",
    "  - projecting a 3D object into a 2D screen\n",
    "  - automated feature extraction (specifically features in a way that is useful to computers)\n",
    "  - this sometimes that it may not be easy to explain to human "
   ]
  },
  {
   "cell_type": "markdown",
   "metadata": {},
   "source": [
    "### Auto-encoders\n",
    "Is a way to use deep learning to create a simple neural network that can learn to recognize \"the good\" transactions you show only the good transactions and when the NN will run in production it will produce a high reconstructing error for those transactions that are different it may not be a definite indication that is a fraudolent transaction but is a good way to raise a red flag when things don't look quite right"
   ]
  },
  {
   "cell_type": "markdown",
   "metadata": {},
   "source": [
    "## 1. Importing dependencies "
   ]
  },
  {
   "cell_type": "code",
   "execution_count": 1,
   "metadata": {},
   "outputs": [],
   "source": [
    "import h2o\n",
    "import numpy as np\n",
    "import pandas as pd\n",
    "import matplotlib.pyplot as plt\n",
    "%matplotlib inline"
   ]
  },
  {
   "cell_type": "markdown",
   "metadata": {},
   "source": [
    "# 2. Starting H2O"
   ]
  },
  {
   "cell_type": "markdown",
   "metadata": {},
   "source": [
    "H2O will automatically check if an instance is already running and connect to"
   ]
  },
  {
   "cell_type": "code",
   "execution_count": 2,
   "metadata": {
    "scrolled": true
   },
   "outputs": [
    {
     "name": "stdout",
     "output_type": "stream",
     "text": [
      "Checking whether there is an H2O instance running at http://localhost:54321 . connected.\n"
     ]
    },
    {
     "data": {
      "text/html": [
       "<div style=\"overflow:auto\"><table style=\"width:50%\"><tr><td>H2O cluster uptime:</td>\n",
       "<td>6 hours 17 mins</td></tr>\n",
       "<tr><td>H2O cluster timezone:</td>\n",
       "<td>America/Sao_Paulo</td></tr>\n",
       "<tr><td>H2O data parsing timezone:</td>\n",
       "<td>UTC</td></tr>\n",
       "<tr><td>H2O cluster version:</td>\n",
       "<td>3.26.0.3</td></tr>\n",
       "<tr><td>H2O cluster version age:</td>\n",
       "<td>21 days, 16 hours and 9 minutes </td></tr>\n",
       "<tr><td>H2O cluster name:</td>\n",
       "<td>H2O_from_python_Semantix_zpo2sn</td></tr>\n",
       "<tr><td>H2O cluster total nodes:</td>\n",
       "<td>1</td></tr>\n",
       "<tr><td>H2O cluster free memory:</td>\n",
       "<td>2.977 Gb</td></tr>\n",
       "<tr><td>H2O cluster total cores:</td>\n",
       "<td>8</td></tr>\n",
       "<tr><td>H2O cluster allowed cores:</td>\n",
       "<td>8</td></tr>\n",
       "<tr><td>H2O cluster status:</td>\n",
       "<td>locked, healthy</td></tr>\n",
       "<tr><td>H2O connection url:</td>\n",
       "<td>http://localhost:54321</td></tr>\n",
       "<tr><td>H2O connection proxy:</td>\n",
       "<td>None</td></tr>\n",
       "<tr><td>H2O internal security:</td>\n",
       "<td>False</td></tr>\n",
       "<tr><td>H2O API Extensions:</td>\n",
       "<td>Amazon S3, Algos, AutoML, Core V3, Core V4</td></tr>\n",
       "<tr><td>Python version:</td>\n",
       "<td>3.7.3 final</td></tr></table></div>"
      ],
      "text/plain": [
       "--------------------------  ------------------------------------------\n",
       "H2O cluster uptime:         6 hours 17 mins\n",
       "H2O cluster timezone:       America/Sao_Paulo\n",
       "H2O data parsing timezone:  UTC\n",
       "H2O cluster version:        3.26.0.3\n",
       "H2O cluster version age:    21 days, 16 hours and 9 minutes\n",
       "H2O cluster name:           H2O_from_python_Semantix_zpo2sn\n",
       "H2O cluster total nodes:    1\n",
       "H2O cluster free memory:    2.977 Gb\n",
       "H2O cluster total cores:    8\n",
       "H2O cluster allowed cores:  8\n",
       "H2O cluster status:         locked, healthy\n",
       "H2O connection url:         http://localhost:54321\n",
       "H2O connection proxy:\n",
       "H2O internal security:      False\n",
       "H2O API Extensions:         Amazon S3, Algos, AutoML, Core V3, Core V4\n",
       "Python version:             3.7.3 final\n",
       "--------------------------  ------------------------------------------"
      ]
     },
     "metadata": {},
     "output_type": "display_data"
    }
   ],
   "source": [
    "h2o.init()"
   ]
  },
  {
   "cell_type": "markdown",
   "metadata": {},
   "source": [
    "# 3. Importing data"
   ]
  },
  {
   "cell_type": "markdown",
   "metadata": {},
   "source": [
    "Let's take a look at the iris dataset again"
   ]
  },
  {
   "cell_type": "code",
   "execution_count": 3,
   "metadata": {},
   "outputs": [],
   "source": [
    "url = \"http://h2o-public-test-data.s3.amazonaws.com/smalldata/iris/iris.csv\""
   ]
  },
  {
   "cell_type": "code",
   "execution_count": 4,
   "metadata": {},
   "outputs": [
    {
     "name": "stdout",
     "output_type": "stream",
     "text": [
      "Parse progress: |█████████████████████████████████████████████████████████| 100%\n"
     ]
    }
   ],
   "source": [
    "data = h2o.import_file(url, destination_frame = \"iris\")"
   ]
  },
  {
   "cell_type": "code",
   "execution_count": 5,
   "metadata": {},
   "outputs": [
    {
     "data": {
      "text/html": [
       "<table>\n",
       "<thead>\n",
       "<tr><th style=\"text-align: right;\">  sepal_len</th><th style=\"text-align: right;\">  sepal_wid</th><th style=\"text-align: right;\">  petal_len</th><th style=\"text-align: right;\">  petal_wid</th><th>class      </th></tr>\n",
       "</thead>\n",
       "<tbody>\n",
       "<tr><td style=\"text-align: right;\">        5.1</td><td style=\"text-align: right;\">        3.5</td><td style=\"text-align: right;\">        1.4</td><td style=\"text-align: right;\">        0.2</td><td>Iris-setosa</td></tr>\n",
       "<tr><td style=\"text-align: right;\">        4.9</td><td style=\"text-align: right;\">        3  </td><td style=\"text-align: right;\">        1.4</td><td style=\"text-align: right;\">        0.2</td><td>Iris-setosa</td></tr>\n",
       "<tr><td style=\"text-align: right;\">        4.7</td><td style=\"text-align: right;\">        3.2</td><td style=\"text-align: right;\">        1.3</td><td style=\"text-align: right;\">        0.2</td><td>Iris-setosa</td></tr>\n",
       "<tr><td style=\"text-align: right;\">        4.6</td><td style=\"text-align: right;\">        3.1</td><td style=\"text-align: right;\">        1.5</td><td style=\"text-align: right;\">        0.2</td><td>Iris-setosa</td></tr>\n",
       "<tr><td style=\"text-align: right;\">        5  </td><td style=\"text-align: right;\">        3.6</td><td style=\"text-align: right;\">        1.4</td><td style=\"text-align: right;\">        0.2</td><td>Iris-setosa</td></tr>\n",
       "<tr><td style=\"text-align: right;\">        5.4</td><td style=\"text-align: right;\">        3.9</td><td style=\"text-align: right;\">        1.7</td><td style=\"text-align: right;\">        0.4</td><td>Iris-setosa</td></tr>\n",
       "<tr><td style=\"text-align: right;\">        4.6</td><td style=\"text-align: right;\">        3.4</td><td style=\"text-align: right;\">        1.4</td><td style=\"text-align: right;\">        0.3</td><td>Iris-setosa</td></tr>\n",
       "<tr><td style=\"text-align: right;\">        5  </td><td style=\"text-align: right;\">        3.4</td><td style=\"text-align: right;\">        1.5</td><td style=\"text-align: right;\">        0.2</td><td>Iris-setosa</td></tr>\n",
       "<tr><td style=\"text-align: right;\">        4.4</td><td style=\"text-align: right;\">        2.9</td><td style=\"text-align: right;\">        1.4</td><td style=\"text-align: right;\">        0.2</td><td>Iris-setosa</td></tr>\n",
       "<tr><td style=\"text-align: right;\">        4.9</td><td style=\"text-align: right;\">        3.1</td><td style=\"text-align: right;\">        1.5</td><td style=\"text-align: right;\">        0.1</td><td>Iris-setosa</td></tr>\n",
       "</tbody>\n",
       "</table>"
      ]
     },
     "metadata": {},
     "output_type": "display_data"
    },
    {
     "data": {
      "text/plain": []
     },
     "execution_count": 5,
     "metadata": {},
     "output_type": "execute_result"
    }
   ],
   "source": [
    "data.set_names([\"sepal_len\", \"sepal_wid\", \"petal_len\", \"petal_wid\", \"class\"])"
   ]
  },
  {
   "cell_type": "markdown",
   "metadata": {},
   "source": [
    "# 4. Splitting the data "
   ]
  },
  {
   "cell_type": "markdown",
   "metadata": {},
   "source": [
    "We'll split the data in Train and Test dataset as usual (80/20)"
   ]
  },
  {
   "cell_type": "code",
   "execution_count": 6,
   "metadata": {},
   "outputs": [],
   "source": [
    "train, test = data.split_frame([0.8], seed = 123)"
   ]
  },
  {
   "cell_type": "code",
   "execution_count": 7,
   "metadata": {},
   "outputs": [
    {
     "name": "stdout",
     "output_type": "stream",
     "text": [
      "121/29\n"
     ]
    }
   ],
   "source": [
    "print(\"%d/%d\" % (train.nrows, test.nrows))"
   ]
  },
  {
   "cell_type": "markdown",
   "metadata": {},
   "source": [
    "# 5. Using Neural Networks to build Autoencoders for Dimensionality Reduction "
   ]
  },
  {
   "cell_type": "markdown",
   "metadata": {},
   "source": [
    "To do this we'll use the Deep Learning libraries we've used already.\n",
    "The idea is that if we build a neural network that produces at its output the same input using a smaller number of nodes we are able to build a representation of our data with fewer dimensions"
   ]
  },
  {
   "cell_type": "markdown",
   "metadata": {},
   "source": [
    "### Defining the input variables to our Neural Network"
   ]
  },
  {
   "cell_type": "code",
   "execution_count": 8,
   "metadata": {},
   "outputs": [],
   "source": [
    "x = [\"sepal_len\", \"sepal_wid\", \"petal_len\", \"petal_wid\"]"
   ]
  },
  {
   "cell_type": "markdown",
   "metadata": {},
   "source": [
    "We now import the AutoEncoder estimator"
   ]
  },
  {
   "cell_type": "code",
   "execution_count": 9,
   "metadata": {},
   "outputs": [],
   "source": [
    "from h2o.estimators.deeplearning import H2OAutoEncoderEstimator"
   ]
  },
  {
   "cell_type": "markdown",
   "metadata": {},
   "source": [
    "To build this network we'll use the same amount of nodes as the input (x) to make things simple at the beginning.\n",
    "\n",
    "It is recommended to use Tanh activation fuction with Autoencoders.\n",
    "Note that unlike the regression or classifications examples we've used in supervised learning examples, we'll set the y variable to \"None\".\n",
    "\n",
    "The rest of the parameters can be normally left to the defaults but we've assigned some vales to allow to get scores at each iteration to understand better what's going on."
   ]
  },
  {
   "cell_type": "code",
   "execution_count": 10,
   "metadata": {},
   "outputs": [
    {
     "name": "stdout",
     "output_type": "stream",
     "text": [
      "deeplearning Model Build progress: |██████████████████████████████████████| 100%\n",
      "Wall time: 6.08 s\n"
     ]
    }
   ],
   "source": [
    "m_AE_4 = H2OAutoEncoderEstimator(\n",
    "    hidden = [4],\n",
    "    activation = \"Tanh\",\n",
    "    epochs = 300,\n",
    "    model_id = \"m_AE_4\",\n",
    "    \n",
    "    train_samples_per_iteration = train.nrow,\n",
    "    score_interval = 0,\n",
    "    score_duty_cycle = 1.0,\n",
    ")\n",
    "\n",
    "%time m_AE_4.train(x, None, train)"
   ]
  },
  {
   "cell_type": "markdown",
   "metadata": {},
   "source": [
    "Let's look at the score history (sh)"
   ]
  },
  {
   "cell_type": "code",
   "execution_count": 11,
   "metadata": {},
   "outputs": [
    {
     "data": {
      "text/html": [
       "<div>\n",
       "<style scoped>\n",
       "    .dataframe tbody tr th:only-of-type {\n",
       "        vertical-align: middle;\n",
       "    }\n",
       "\n",
       "    .dataframe tbody tr th {\n",
       "        vertical-align: top;\n",
       "    }\n",
       "\n",
       "    .dataframe thead th {\n",
       "        text-align: right;\n",
       "    }\n",
       "</style>\n",
       "<table border=\"1\" class=\"dataframe\">\n",
       "  <thead>\n",
       "    <tr style=\"text-align: right;\">\n",
       "      <th></th>\n",
       "      <th></th>\n",
       "      <th>timestamp</th>\n",
       "      <th>duration</th>\n",
       "      <th>training_speed</th>\n",
       "      <th>epochs</th>\n",
       "      <th>iterations</th>\n",
       "      <th>samples</th>\n",
       "      <th>training_rmse</th>\n",
       "      <th>training_mse</th>\n",
       "    </tr>\n",
       "  </thead>\n",
       "  <tbody>\n",
       "    <tr>\n",
       "      <th>0</th>\n",
       "      <td></td>\n",
       "      <td>2019-09-14 16:26:26</td>\n",
       "      <td>0.012 sec</td>\n",
       "      <td>0,00000 obs/sec</td>\n",
       "      <td>0.0</td>\n",
       "      <td>0</td>\n",
       "      <td>0.0</td>\n",
       "      <td>0.312791</td>\n",
       "      <td>0.097838</td>\n",
       "    </tr>\n",
       "    <tr>\n",
       "      <th>1</th>\n",
       "      <td></td>\n",
       "      <td>2019-09-14 16:26:26</td>\n",
       "      <td>0.018 sec</td>\n",
       "      <td>17285 obs/sec</td>\n",
       "      <td>1.0</td>\n",
       "      <td>1</td>\n",
       "      <td>121.0</td>\n",
       "      <td>0.268711</td>\n",
       "      <td>0.072206</td>\n",
       "    </tr>\n",
       "    <tr>\n",
       "      <th>2</th>\n",
       "      <td></td>\n",
       "      <td>2019-09-14 16:26:26</td>\n",
       "      <td>0.023 sec</td>\n",
       "      <td>20166 obs/sec</td>\n",
       "      <td>2.0</td>\n",
       "      <td>2</td>\n",
       "      <td>242.0</td>\n",
       "      <td>0.220050</td>\n",
       "      <td>0.048422</td>\n",
       "    </tr>\n",
       "    <tr>\n",
       "      <th>3</th>\n",
       "      <td></td>\n",
       "      <td>2019-09-14 16:26:26</td>\n",
       "      <td>0.027 sec</td>\n",
       "      <td>22687 obs/sec</td>\n",
       "      <td>3.0</td>\n",
       "      <td>3</td>\n",
       "      <td>363.0</td>\n",
       "      <td>0.188021</td>\n",
       "      <td>0.035352</td>\n",
       "    </tr>\n",
       "    <tr>\n",
       "      <th>4</th>\n",
       "      <td></td>\n",
       "      <td>2019-09-14 16:26:26</td>\n",
       "      <td>0.031 sec</td>\n",
       "      <td>24200 obs/sec</td>\n",
       "      <td>4.0</td>\n",
       "      <td>4</td>\n",
       "      <td>484.0</td>\n",
       "      <td>0.164481</td>\n",
       "      <td>0.027054</td>\n",
       "    </tr>\n",
       "  </tbody>\n",
       "</table>\n",
       "</div>"
      ],
      "text/plain": [
       "               timestamp    duration   training_speed  epochs  iterations  \\\n",
       "0    2019-09-14 16:26:26   0.012 sec  0,00000 obs/sec     0.0           0   \n",
       "1    2019-09-14 16:26:26   0.018 sec    17285 obs/sec     1.0           1   \n",
       "2    2019-09-14 16:26:26   0.023 sec    20166 obs/sec     2.0           2   \n",
       "3    2019-09-14 16:26:26   0.027 sec    22687 obs/sec     3.0           3   \n",
       "4    2019-09-14 16:26:26   0.031 sec    24200 obs/sec     4.0           4   \n",
       "\n",
       "   samples  training_rmse  training_mse  \n",
       "0      0.0       0.312791      0.097838  \n",
       "1    121.0       0.268711      0.072206  \n",
       "2    242.0       0.220050      0.048422  \n",
       "3    363.0       0.188021      0.035352  \n",
       "4    484.0       0.164481      0.027054  "
      ]
     },
     "execution_count": 11,
     "metadata": {},
     "output_type": "execute_result"
    }
   ],
   "source": [
    "sh = m_AE_4.score_history()\n",
    "sh.head()"
   ]
  },
  {
   "cell_type": "markdown",
   "metadata": {},
   "source": [
    "the Training_MSE represents the reconstructing error - which tells us how similar the output nodes are to the input nodes"
   ]
  },
  {
   "cell_type": "markdown",
   "metadata": {},
   "source": [
    "We can take a loog at the H2O Flow UI to see the plot of the training_mse"
   ]
  },
  {
   "cell_type": "markdown",
   "metadata": {},
   "source": [
    "If we look at the tail we can see the lowest reconstructing error we got"
   ]
  },
  {
   "cell_type": "code",
   "execution_count": 12,
   "metadata": {},
   "outputs": [
    {
     "data": {
      "text/html": [
       "<div>\n",
       "<style scoped>\n",
       "    .dataframe tbody tr th:only-of-type {\n",
       "        vertical-align: middle;\n",
       "    }\n",
       "\n",
       "    .dataframe tbody tr th {\n",
       "        vertical-align: top;\n",
       "    }\n",
       "\n",
       "    .dataframe thead th {\n",
       "        text-align: right;\n",
       "    }\n",
       "</style>\n",
       "<table border=\"1\" class=\"dataframe\">\n",
       "  <thead>\n",
       "    <tr style=\"text-align: right;\">\n",
       "      <th></th>\n",
       "      <th></th>\n",
       "      <th>timestamp</th>\n",
       "      <th>duration</th>\n",
       "      <th>training_speed</th>\n",
       "      <th>epochs</th>\n",
       "      <th>iterations</th>\n",
       "      <th>samples</th>\n",
       "      <th>training_rmse</th>\n",
       "      <th>training_mse</th>\n",
       "    </tr>\n",
       "  </thead>\n",
       "  <tbody>\n",
       "    <tr>\n",
       "      <th>84</th>\n",
       "      <td></td>\n",
       "      <td>2019-09-14 16:26:27</td>\n",
       "      <td>0.651 sec</td>\n",
       "      <td>18962 obs/sec</td>\n",
       "      <td>84.0</td>\n",
       "      <td>84</td>\n",
       "      <td>10164.0</td>\n",
       "      <td>0.023570</td>\n",
       "      <td>0.000556</td>\n",
       "    </tr>\n",
       "    <tr>\n",
       "      <th>85</th>\n",
       "      <td></td>\n",
       "      <td>2019-09-14 16:26:27</td>\n",
       "      <td>0.657 sec</td>\n",
       "      <td>18976 obs/sec</td>\n",
       "      <td>85.0</td>\n",
       "      <td>85</td>\n",
       "      <td>10285.0</td>\n",
       "      <td>0.024299</td>\n",
       "      <td>0.000590</td>\n",
       "    </tr>\n",
       "    <tr>\n",
       "      <th>86</th>\n",
       "      <td></td>\n",
       "      <td>2019-09-14 16:26:27</td>\n",
       "      <td>0.661 sec</td>\n",
       "      <td>19058 obs/sec</td>\n",
       "      <td>86.0</td>\n",
       "      <td>86</td>\n",
       "      <td>10406.0</td>\n",
       "      <td>0.023599</td>\n",
       "      <td>0.000557</td>\n",
       "    </tr>\n",
       "    <tr>\n",
       "      <th>87</th>\n",
       "      <td></td>\n",
       "      <td>2019-09-14 16:26:27</td>\n",
       "      <td>0.665 sec</td>\n",
       "      <td>19140 obs/sec</td>\n",
       "      <td>87.0</td>\n",
       "      <td>87</td>\n",
       "      <td>10527.0</td>\n",
       "      <td>0.023877</td>\n",
       "      <td>0.000570</td>\n",
       "    </tr>\n",
       "    <tr>\n",
       "      <th>88</th>\n",
       "      <td></td>\n",
       "      <td>2019-09-14 16:26:27</td>\n",
       "      <td>0.672 sec</td>\n",
       "      <td>18899 obs/sec</td>\n",
       "      <td>87.0</td>\n",
       "      <td>87</td>\n",
       "      <td>10527.0</td>\n",
       "      <td>0.023570</td>\n",
       "      <td>0.000556</td>\n",
       "    </tr>\n",
       "  </tbody>\n",
       "</table>\n",
       "</div>"
      ],
      "text/plain": [
       "                timestamp    duration training_speed  epochs  iterations  \\\n",
       "84    2019-09-14 16:26:27   0.651 sec  18962 obs/sec    84.0          84   \n",
       "85    2019-09-14 16:26:27   0.657 sec  18976 obs/sec    85.0          85   \n",
       "86    2019-09-14 16:26:27   0.661 sec  19058 obs/sec    86.0          86   \n",
       "87    2019-09-14 16:26:27   0.665 sec  19140 obs/sec    87.0          87   \n",
       "88    2019-09-14 16:26:27   0.672 sec  18899 obs/sec    87.0          87   \n",
       "\n",
       "    samples  training_rmse  training_mse  \n",
       "84  10164.0       0.023570      0.000556  \n",
       "85  10285.0       0.024299      0.000590  \n",
       "86  10406.0       0.023599      0.000557  \n",
       "87  10527.0       0.023877      0.000570  \n",
       "88  10527.0       0.023570      0.000556  "
      ]
     },
     "execution_count": 12,
     "metadata": {},
     "output_type": "execute_result"
    }
   ],
   "source": [
    "sh.tail()"
   ]
  },
  {
   "cell_type": "markdown",
   "metadata": {},
   "source": [
    "### Considerations about the early stopping"
   ]
  },
  {
   "cell_type": "markdown",
   "metadata": {},
   "source": [
    "If we look carefully at the tail of the training MSE we see that it was still getting lower althouth it flattened out a bit. What is happening is that the algorigthm is looking at the past 5 iterations and if the metric doens't improve a lot it stops before reaching the end of of epochs (set to 300)."
   ]
  },
  {
   "cell_type": "markdown",
   "metadata": {},
   "source": [
    "In the experiment above the early stopping was activated at 139 epochs. Let's modify this parameter (stopping_rounds) and see what's happening"
   ]
  },
  {
   "cell_type": "code",
   "execution_count": 13,
   "metadata": {},
   "outputs": [
    {
     "name": "stdout",
     "output_type": "stream",
     "text": [
      "deeplearning Model Build progress: |██████████████████████████████████████| 100%\n",
      "Wall time: 8.33 s\n"
     ]
    }
   ],
   "source": [
    "m_AE_4 = H2OAutoEncoderEstimator(\n",
    "    hidden = [4],\n",
    "    activation = \"Tanh\",\n",
    "    epochs = 300,\n",
    "    model_id = \"m_AE_4\",\n",
    "    \n",
    "    train_samples_per_iteration = train.nrow,\n",
    "    score_interval = 0,\n",
    "    score_duty_cycle = 1.0,\n",
    "    stopping_rounds = 15\n",
    ")\n",
    "\n",
    "%time m_AE_4.train(x, None, train)"
   ]
  },
  {
   "cell_type": "code",
   "execution_count": 14,
   "metadata": {},
   "outputs": [
    {
     "data": {
      "text/html": [
       "<div>\n",
       "<style scoped>\n",
       "    .dataframe tbody tr th:only-of-type {\n",
       "        vertical-align: middle;\n",
       "    }\n",
       "\n",
       "    .dataframe tbody tr th {\n",
       "        vertical-align: top;\n",
       "    }\n",
       "\n",
       "    .dataframe thead th {\n",
       "        text-align: right;\n",
       "    }\n",
       "</style>\n",
       "<table border=\"1\" class=\"dataframe\">\n",
       "  <thead>\n",
       "    <tr style=\"text-align: right;\">\n",
       "      <th></th>\n",
       "      <th></th>\n",
       "      <th>timestamp</th>\n",
       "      <th>duration</th>\n",
       "      <th>training_speed</th>\n",
       "      <th>epochs</th>\n",
       "      <th>iterations</th>\n",
       "      <th>samples</th>\n",
       "      <th>training_rmse</th>\n",
       "      <th>training_mse</th>\n",
       "    </tr>\n",
       "  </thead>\n",
       "  <tbody>\n",
       "    <tr>\n",
       "      <th>264</th>\n",
       "      <td></td>\n",
       "      <td>2019-09-14 16:26:35</td>\n",
       "      <td>2.377 sec</td>\n",
       "      <td>15298 obs/sec</td>\n",
       "      <td>264.0</td>\n",
       "      <td>264</td>\n",
       "      <td>31944.0</td>\n",
       "      <td>0.010744</td>\n",
       "      <td>0.000115</td>\n",
       "    </tr>\n",
       "    <tr>\n",
       "      <th>265</th>\n",
       "      <td></td>\n",
       "      <td>2019-09-14 16:26:35</td>\n",
       "      <td>2.388 sec</td>\n",
       "      <td>15283 obs/sec</td>\n",
       "      <td>265.0</td>\n",
       "      <td>265</td>\n",
       "      <td>32065.0</td>\n",
       "      <td>0.010351</td>\n",
       "      <td>0.000107</td>\n",
       "    </tr>\n",
       "    <tr>\n",
       "      <th>266</th>\n",
       "      <td></td>\n",
       "      <td>2019-09-14 16:26:35</td>\n",
       "      <td>2.396 sec</td>\n",
       "      <td>15283 obs/sec</td>\n",
       "      <td>266.0</td>\n",
       "      <td>266</td>\n",
       "      <td>32186.0</td>\n",
       "      <td>0.010115</td>\n",
       "      <td>0.000102</td>\n",
       "    </tr>\n",
       "    <tr>\n",
       "      <th>267</th>\n",
       "      <td></td>\n",
       "      <td>2019-09-14 16:26:35</td>\n",
       "      <td>2.415 sec</td>\n",
       "      <td>15203 obs/sec</td>\n",
       "      <td>267.0</td>\n",
       "      <td>267</td>\n",
       "      <td>32307.0</td>\n",
       "      <td>0.014319</td>\n",
       "      <td>0.000205</td>\n",
       "    </tr>\n",
       "    <tr>\n",
       "      <th>268</th>\n",
       "      <td></td>\n",
       "      <td>2019-09-14 16:26:35</td>\n",
       "      <td>2.426 sec</td>\n",
       "      <td>15125 obs/sec</td>\n",
       "      <td>267.0</td>\n",
       "      <td>267</td>\n",
       "      <td>32307.0</td>\n",
       "      <td>0.010115</td>\n",
       "      <td>0.000102</td>\n",
       "    </tr>\n",
       "  </tbody>\n",
       "</table>\n",
       "</div>"
      ],
      "text/plain": [
       "                 timestamp    duration training_speed  epochs  iterations  \\\n",
       "264    2019-09-14 16:26:35   2.377 sec  15298 obs/sec   264.0         264   \n",
       "265    2019-09-14 16:26:35   2.388 sec  15283 obs/sec   265.0         265   \n",
       "266    2019-09-14 16:26:35   2.396 sec  15283 obs/sec   266.0         266   \n",
       "267    2019-09-14 16:26:35   2.415 sec  15203 obs/sec   267.0         267   \n",
       "268    2019-09-14 16:26:35   2.426 sec  15125 obs/sec   267.0         267   \n",
       "\n",
       "     samples  training_rmse  training_mse  \n",
       "264  31944.0       0.010744      0.000115  \n",
       "265  32065.0       0.010351      0.000107  \n",
       "266  32186.0       0.010115      0.000102  \n",
       "267  32307.0       0.014319      0.000205  \n",
       "268  32307.0       0.010115      0.000102  "
      ]
     },
     "execution_count": 14,
     "metadata": {},
     "output_type": "execute_result"
    }
   ],
   "source": [
    "sh = m_AE_4.score_history()\n",
    "sh.tail()"
   ]
  },
  {
   "cell_type": "markdown",
   "metadata": {},
   "source": [
    "We can see that we got all the way to the end of the epoch 300.\n",
    "This is because, if we use the same number of hidden nodes as the number of imputs, we should theoretically be able to learn perfectly to describe our input (mse -> 0)"
   ]
  },
  {
   "cell_type": "markdown",
   "metadata": {},
   "source": [
    "### let's try with fewer layers"
   ]
  },
  {
   "cell_type": "code",
   "execution_count": 39,
   "metadata": {},
   "outputs": [
    {
     "name": "stdout",
     "output_type": "stream",
     "text": [
      "deeplearning Model Build progress: |██████████████████████████████████████| 100%\n",
      "Wall time: 6.1 s\n"
     ]
    }
   ],
   "source": [
    "m_AE_3 = H2OAutoEncoderEstimator(\n",
    "    hidden = [3],\n",
    "    activation = \"Tanh\",\n",
    "    epochs = 300,\n",
    "    model_id = \"m_AE_3\",\n",
    "    \n",
    "    train_samples_per_iteration = train.nrow,\n",
    "    score_interval = 0,\n",
    "    score_duty_cycle = 1.0,\n",
    "    stopping_rounds = 15\n",
    ")\n",
    "\n",
    "%time m_AE_3.train(x, None, train)"
   ]
  },
  {
   "cell_type": "code",
   "execution_count": 40,
   "metadata": {},
   "outputs": [
    {
     "data": {
      "text/html": [
       "<div>\n",
       "<style scoped>\n",
       "    .dataframe tbody tr th:only-of-type {\n",
       "        vertical-align: middle;\n",
       "    }\n",
       "\n",
       "    .dataframe tbody tr th {\n",
       "        vertical-align: top;\n",
       "    }\n",
       "\n",
       "    .dataframe thead th {\n",
       "        text-align: right;\n",
       "    }\n",
       "</style>\n",
       "<table border=\"1\" class=\"dataframe\">\n",
       "  <thead>\n",
       "    <tr style=\"text-align: right;\">\n",
       "      <th></th>\n",
       "      <th></th>\n",
       "      <th>timestamp</th>\n",
       "      <th>duration</th>\n",
       "      <th>training_speed</th>\n",
       "      <th>epochs</th>\n",
       "      <th>iterations</th>\n",
       "      <th>samples</th>\n",
       "      <th>training_rmse</th>\n",
       "      <th>training_mse</th>\n",
       "    </tr>\n",
       "  </thead>\n",
       "  <tbody>\n",
       "    <tr>\n",
       "      <th>238</th>\n",
       "      <td></td>\n",
       "      <td>2019-09-14 16:53:28</td>\n",
       "      <td>1.775 sec</td>\n",
       "      <td>19447 obs/sec</td>\n",
       "      <td>239.0</td>\n",
       "      <td>239</td>\n",
       "      <td>28919.0</td>\n",
       "      <td>0.023287</td>\n",
       "      <td>0.000542</td>\n",
       "    </tr>\n",
       "    <tr>\n",
       "      <th>239</th>\n",
       "      <td></td>\n",
       "      <td>2019-09-14 16:53:28</td>\n",
       "      <td>1.783 sec</td>\n",
       "      <td>19424 obs/sec</td>\n",
       "      <td>240.0</td>\n",
       "      <td>240</td>\n",
       "      <td>29040.0</td>\n",
       "      <td>0.023512</td>\n",
       "      <td>0.000553</td>\n",
       "    </tr>\n",
       "    <tr>\n",
       "      <th>240</th>\n",
       "      <td></td>\n",
       "      <td>2019-09-14 16:53:28</td>\n",
       "      <td>1.791 sec</td>\n",
       "      <td>19453 obs/sec</td>\n",
       "      <td>241.0</td>\n",
       "      <td>241</td>\n",
       "      <td>29161.0</td>\n",
       "      <td>0.023135</td>\n",
       "      <td>0.000535</td>\n",
       "    </tr>\n",
       "    <tr>\n",
       "      <th>241</th>\n",
       "      <td></td>\n",
       "      <td>2019-09-14 16:53:28</td>\n",
       "      <td>1.795 sec</td>\n",
       "      <td>19482 obs/sec</td>\n",
       "      <td>242.0</td>\n",
       "      <td>242</td>\n",
       "      <td>29282.0</td>\n",
       "      <td>0.023861</td>\n",
       "      <td>0.000569</td>\n",
       "    </tr>\n",
       "    <tr>\n",
       "      <th>242</th>\n",
       "      <td></td>\n",
       "      <td>2019-09-14 16:53:28</td>\n",
       "      <td>1.803 sec</td>\n",
       "      <td>19379 obs/sec</td>\n",
       "      <td>242.0</td>\n",
       "      <td>242</td>\n",
       "      <td>29282.0</td>\n",
       "      <td>0.023025</td>\n",
       "      <td>0.000530</td>\n",
       "    </tr>\n",
       "  </tbody>\n",
       "</table>\n",
       "</div>"
      ],
      "text/plain": [
       "                 timestamp    duration training_speed  epochs  iterations  \\\n",
       "238    2019-09-14 16:53:28   1.775 sec  19447 obs/sec   239.0         239   \n",
       "239    2019-09-14 16:53:28   1.783 sec  19424 obs/sec   240.0         240   \n",
       "240    2019-09-14 16:53:28   1.791 sec  19453 obs/sec   241.0         241   \n",
       "241    2019-09-14 16:53:28   1.795 sec  19482 obs/sec   242.0         242   \n",
       "242    2019-09-14 16:53:28   1.803 sec  19379 obs/sec   242.0         242   \n",
       "\n",
       "     samples  training_rmse  training_mse  \n",
       "238  28919.0       0.023287      0.000542  \n",
       "239  29040.0       0.023512      0.000553  \n",
       "240  29161.0       0.023135      0.000535  \n",
       "241  29282.0       0.023861      0.000569  \n",
       "242  29282.0       0.023025      0.000530  "
      ]
     },
     "execution_count": 40,
     "metadata": {},
     "output_type": "execute_result"
    }
   ],
   "source": [
    "sh3 = m_AE_3.score_history()\n",
    "sh3.tail()"
   ]
  },
  {
   "cell_type": "markdown",
   "metadata": {},
   "source": [
    "In this case we're asking our Neural Network to represent our 4 input variable with only 3 neurons. The model stopped at around 288 epochs and we got a reconstructing error of about 0.0005"
   ]
  },
  {
   "cell_type": "markdown",
   "metadata": {},
   "source": [
    "Let's try with 2 nodes"
   ]
  },
  {
   "cell_type": "code",
   "execution_count": 41,
   "metadata": {},
   "outputs": [
    {
     "name": "stdout",
     "output_type": "stream",
     "text": [
      "deeplearning Model Build progress: |██████████████████████████████████████| 100%\n",
      "Wall time: 6.09 s\n"
     ]
    }
   ],
   "source": [
    "m_AE_2 = H2OAutoEncoderEstimator(\n",
    "    hidden = [2],\n",
    "    activation = \"Tanh\",\n",
    "    epochs = 300,\n",
    "    model_id = \"m_AE_4\",\n",
    "    \n",
    "    train_samples_per_iteration = train.nrow,\n",
    "    score_interval = 0,\n",
    "    score_duty_cycle = 1.0,\n",
    "    stopping_rounds = 15\n",
    ")\n",
    "\n",
    "%time m_AE_2.train(x, None, train)"
   ]
  },
  {
   "cell_type": "code",
   "execution_count": 42,
   "metadata": {},
   "outputs": [
    {
     "data": {
      "text/html": [
       "<div>\n",
       "<style scoped>\n",
       "    .dataframe tbody tr th:only-of-type {\n",
       "        vertical-align: middle;\n",
       "    }\n",
       "\n",
       "    .dataframe tbody tr th {\n",
       "        vertical-align: top;\n",
       "    }\n",
       "\n",
       "    .dataframe thead th {\n",
       "        text-align: right;\n",
       "    }\n",
       "</style>\n",
       "<table border=\"1\" class=\"dataframe\">\n",
       "  <thead>\n",
       "    <tr style=\"text-align: right;\">\n",
       "      <th></th>\n",
       "      <th></th>\n",
       "      <th>timestamp</th>\n",
       "      <th>duration</th>\n",
       "      <th>training_speed</th>\n",
       "      <th>epochs</th>\n",
       "      <th>iterations</th>\n",
       "      <th>samples</th>\n",
       "      <th>training_rmse</th>\n",
       "      <th>training_mse</th>\n",
       "    </tr>\n",
       "  </thead>\n",
       "  <tbody>\n",
       "    <tr>\n",
       "      <th>237</th>\n",
       "      <td></td>\n",
       "      <td>2019-09-14 16:53:34</td>\n",
       "      <td>1.826 sec</td>\n",
       "      <td>18573 obs/sec</td>\n",
       "      <td>241.0</td>\n",
       "      <td>241</td>\n",
       "      <td>29161.0</td>\n",
       "      <td>0.053625</td>\n",
       "      <td>0.002876</td>\n",
       "    </tr>\n",
       "    <tr>\n",
       "      <th>238</th>\n",
       "      <td></td>\n",
       "      <td>2019-09-14 16:53:34</td>\n",
       "      <td>1.831 sec</td>\n",
       "      <td>18591 obs/sec</td>\n",
       "      <td>242.0</td>\n",
       "      <td>242</td>\n",
       "      <td>29282.0</td>\n",
       "      <td>0.053064</td>\n",
       "      <td>0.002816</td>\n",
       "    </tr>\n",
       "    <tr>\n",
       "      <th>239</th>\n",
       "      <td></td>\n",
       "      <td>2019-09-14 16:53:34</td>\n",
       "      <td>1.838 sec</td>\n",
       "      <td>18621 obs/sec</td>\n",
       "      <td>243.0</td>\n",
       "      <td>243</td>\n",
       "      <td>29403.0</td>\n",
       "      <td>0.053073</td>\n",
       "      <td>0.002817</td>\n",
       "    </tr>\n",
       "    <tr>\n",
       "      <th>240</th>\n",
       "      <td></td>\n",
       "      <td>2019-09-14 16:53:34</td>\n",
       "      <td>1.843 sec</td>\n",
       "      <td>18638 obs/sec</td>\n",
       "      <td>244.0</td>\n",
       "      <td>244</td>\n",
       "      <td>29524.0</td>\n",
       "      <td>0.053541</td>\n",
       "      <td>0.002867</td>\n",
       "    </tr>\n",
       "    <tr>\n",
       "      <th>241</th>\n",
       "      <td></td>\n",
       "      <td>2019-09-14 16:53:34</td>\n",
       "      <td>1.848 sec</td>\n",
       "      <td>18656 obs/sec</td>\n",
       "      <td>245.0</td>\n",
       "      <td>245</td>\n",
       "      <td>29645.0</td>\n",
       "      <td>0.052927</td>\n",
       "      <td>0.002801</td>\n",
       "    </tr>\n",
       "  </tbody>\n",
       "</table>\n",
       "</div>"
      ],
      "text/plain": [
       "                 timestamp    duration training_speed  epochs  iterations  \\\n",
       "237    2019-09-14 16:53:34   1.826 sec  18573 obs/sec   241.0         241   \n",
       "238    2019-09-14 16:53:34   1.831 sec  18591 obs/sec   242.0         242   \n",
       "239    2019-09-14 16:53:34   1.838 sec  18621 obs/sec   243.0         243   \n",
       "240    2019-09-14 16:53:34   1.843 sec  18638 obs/sec   244.0         244   \n",
       "241    2019-09-14 16:53:34   1.848 sec  18656 obs/sec   245.0         245   \n",
       "\n",
       "     samples  training_rmse  training_mse  \n",
       "237  29161.0       0.053625      0.002876  \n",
       "238  29282.0       0.053064      0.002816  \n",
       "239  29403.0       0.053073      0.002817  \n",
       "240  29524.0       0.053541      0.002867  \n",
       "241  29645.0       0.052927      0.002801  "
      ]
     },
     "execution_count": 42,
     "metadata": {},
     "output_type": "execute_result"
    }
   ],
   "source": [
    "sh2 = m_AE_2.score_history()\n",
    "sh2.tail()"
   ]
  },
  {
   "cell_type": "markdown",
   "metadata": {},
   "source": [
    "We could still represent our input with only 2 neurons but the reconstructing error was significantly higher: 0.003 (~ 1 order of magnitude)"
   ]
  },
  {
   "cell_type": "markdown",
   "metadata": {},
   "source": [
    "let's try with 1"
   ]
  },
  {
   "cell_type": "code",
   "execution_count": 43,
   "metadata": {},
   "outputs": [
    {
     "name": "stdout",
     "output_type": "stream",
     "text": [
      "deeplearning Model Build progress: |██████████████████████████████████████| 100%\n",
      "Wall time: 6.09 s\n"
     ]
    }
   ],
   "source": [
    "m_AE_1 = H2OAutoEncoderEstimator(\n",
    "    hidden = [1],\n",
    "    activation = \"Tanh\",\n",
    "    epochs = 300,\n",
    "    model_id = \"m_AE_4\",\n",
    "    \n",
    "    train_samples_per_iteration = train.nrow,\n",
    "    score_interval = 0,\n",
    "    score_duty_cycle = 1.0,\n",
    "    stopping_rounds = 15\n",
    ")\n",
    "\n",
    "%time m_AE_1.train(x, None, train)"
   ]
  },
  {
   "cell_type": "code",
   "execution_count": 44,
   "metadata": {},
   "outputs": [
    {
     "data": {
      "text/html": [
       "<div>\n",
       "<style scoped>\n",
       "    .dataframe tbody tr th:only-of-type {\n",
       "        vertical-align: middle;\n",
       "    }\n",
       "\n",
       "    .dataframe tbody tr th {\n",
       "        vertical-align: top;\n",
       "    }\n",
       "\n",
       "    .dataframe thead th {\n",
       "        text-align: right;\n",
       "    }\n",
       "</style>\n",
       "<table border=\"1\" class=\"dataframe\">\n",
       "  <thead>\n",
       "    <tr style=\"text-align: right;\">\n",
       "      <th></th>\n",
       "      <th></th>\n",
       "      <th>timestamp</th>\n",
       "      <th>duration</th>\n",
       "      <th>training_speed</th>\n",
       "      <th>epochs</th>\n",
       "      <th>iterations</th>\n",
       "      <th>samples</th>\n",
       "      <th>training_rmse</th>\n",
       "      <th>training_mse</th>\n",
       "    </tr>\n",
       "  </thead>\n",
       "  <tbody>\n",
       "    <tr>\n",
       "      <th>63</th>\n",
       "      <td></td>\n",
       "      <td>2019-09-14 16:53:39</td>\n",
       "      <td>0.313 sec</td>\n",
       "      <td>33085 obs/sec</td>\n",
       "      <td>70.0</td>\n",
       "      <td>70</td>\n",
       "      <td>8470.0</td>\n",
       "      <td>0.107031</td>\n",
       "      <td>0.011456</td>\n",
       "    </tr>\n",
       "    <tr>\n",
       "      <th>64</th>\n",
       "      <td></td>\n",
       "      <td>2019-09-14 16:53:39</td>\n",
       "      <td>0.317 sec</td>\n",
       "      <td>33169 obs/sec</td>\n",
       "      <td>71.0</td>\n",
       "      <td>71</td>\n",
       "      <td>8591.0</td>\n",
       "      <td>0.108778</td>\n",
       "      <td>0.011833</td>\n",
       "    </tr>\n",
       "    <tr>\n",
       "      <th>65</th>\n",
       "      <td></td>\n",
       "      <td>2019-09-14 16:53:39</td>\n",
       "      <td>0.321 sec</td>\n",
       "      <td>33585 obs/sec</td>\n",
       "      <td>73.0</td>\n",
       "      <td>73</td>\n",
       "      <td>8833.0</td>\n",
       "      <td>0.109231</td>\n",
       "      <td>0.011931</td>\n",
       "    </tr>\n",
       "    <tr>\n",
       "      <th>66</th>\n",
       "      <td></td>\n",
       "      <td>2019-09-14 16:53:39</td>\n",
       "      <td>0.325 sec</td>\n",
       "      <td>33988 obs/sec</td>\n",
       "      <td>75.0</td>\n",
       "      <td>75</td>\n",
       "      <td>9075.0</td>\n",
       "      <td>0.107882</td>\n",
       "      <td>0.011639</td>\n",
       "    </tr>\n",
       "    <tr>\n",
       "      <th>67</th>\n",
       "      <td></td>\n",
       "      <td>2019-09-14 16:53:39</td>\n",
       "      <td>0.329 sec</td>\n",
       "      <td>33487 obs/sec</td>\n",
       "      <td>75.0</td>\n",
       "      <td>75</td>\n",
       "      <td>9075.0</td>\n",
       "      <td>0.106694</td>\n",
       "      <td>0.011384</td>\n",
       "    </tr>\n",
       "  </tbody>\n",
       "</table>\n",
       "</div>"
      ],
      "text/plain": [
       "                timestamp    duration training_speed  epochs  iterations  \\\n",
       "63    2019-09-14 16:53:39   0.313 sec  33085 obs/sec    70.0          70   \n",
       "64    2019-09-14 16:53:39   0.317 sec  33169 obs/sec    71.0          71   \n",
       "65    2019-09-14 16:53:39   0.321 sec  33585 obs/sec    73.0          73   \n",
       "66    2019-09-14 16:53:39   0.325 sec  33988 obs/sec    75.0          75   \n",
       "67    2019-09-14 16:53:39   0.329 sec  33487 obs/sec    75.0          75   \n",
       "\n",
       "    samples  training_rmse  training_mse  \n",
       "63   8470.0       0.107031      0.011456  \n",
       "64   8591.0       0.108778      0.011833  \n",
       "65   8833.0       0.109231      0.011931  \n",
       "66   9075.0       0.107882      0.011639  \n",
       "67   9075.0       0.106694      0.011384  "
      ]
     },
     "execution_count": 44,
     "metadata": {},
     "output_type": "execute_result"
    }
   ],
   "source": [
    "sh1 = m_AE_1.score_history()\n",
    "sh1.tail()"
   ]
  },
  {
   "cell_type": "markdown",
   "metadata": {},
   "source": [
    "As espected using a single neuron to represent our 4 inputs will give us a much higher reconstructing error: 0.01"
   ]
  },
  {
   "cell_type": "markdown",
   "metadata": {},
   "source": [
    "### let's increase the number of hidden layers"
   ]
  },
  {
   "cell_type": "code",
   "execution_count": 45,
   "metadata": {},
   "outputs": [
    {
     "name": "stdout",
     "output_type": "stream",
     "text": [
      "deeplearning Model Build progress: |██████████████████████████████████████| 100%\n",
      "Wall time: 6.1 s\n"
     ]
    }
   ],
   "source": [
    "m_AE_5_3_5 = H2OAutoEncoderEstimator(\n",
    "    hidden = [5, 3, 5], #this symmetry is recommended\n",
    "    activation = \"Tanh\",\n",
    "    epochs = 300,\n",
    "    model_id = \"m_AE_5_3_5\",\n",
    "    \n",
    "    train_samples_per_iteration = train.nrow,\n",
    "    score_interval = 0,\n",
    "    score_duty_cycle = 1.0,\n",
    "    stopping_rounds = 15\n",
    ")\n",
    "\n",
    "%time m_AE_5_3_5.train(x, None, train)"
   ]
  },
  {
   "cell_type": "code",
   "execution_count": 46,
   "metadata": {},
   "outputs": [
    {
     "data": {
      "text/html": [
       "<div>\n",
       "<style scoped>\n",
       "    .dataframe tbody tr th:only-of-type {\n",
       "        vertical-align: middle;\n",
       "    }\n",
       "\n",
       "    .dataframe tbody tr th {\n",
       "        vertical-align: top;\n",
       "    }\n",
       "\n",
       "    .dataframe thead th {\n",
       "        text-align: right;\n",
       "    }\n",
       "</style>\n",
       "<table border=\"1\" class=\"dataframe\">\n",
       "  <thead>\n",
       "    <tr style=\"text-align: right;\">\n",
       "      <th></th>\n",
       "      <th></th>\n",
       "      <th>timestamp</th>\n",
       "      <th>duration</th>\n",
       "      <th>training_speed</th>\n",
       "      <th>epochs</th>\n",
       "      <th>iterations</th>\n",
       "      <th>samples</th>\n",
       "      <th>training_rmse</th>\n",
       "      <th>training_mse</th>\n",
       "    </tr>\n",
       "  </thead>\n",
       "  <tbody>\n",
       "    <tr>\n",
       "      <th>78</th>\n",
       "      <td></td>\n",
       "      <td>2019-09-14 16:53:45</td>\n",
       "      <td>0.603 sec</td>\n",
       "      <td>20472 obs/sec</td>\n",
       "      <td>78.0</td>\n",
       "      <td>78</td>\n",
       "      <td>9438.0</td>\n",
       "      <td>0.025242</td>\n",
       "      <td>0.000637</td>\n",
       "    </tr>\n",
       "    <tr>\n",
       "      <th>79</th>\n",
       "      <td></td>\n",
       "      <td>2019-09-14 16:53:45</td>\n",
       "      <td>0.615 sec</td>\n",
       "      <td>20209 obs/sec</td>\n",
       "      <td>79.0</td>\n",
       "      <td>79</td>\n",
       "      <td>9559.0</td>\n",
       "      <td>0.031297</td>\n",
       "      <td>0.000979</td>\n",
       "    </tr>\n",
       "    <tr>\n",
       "      <th>80</th>\n",
       "      <td></td>\n",
       "      <td>2019-09-14 16:53:45</td>\n",
       "      <td>0.624 sec</td>\n",
       "      <td>20124 obs/sec</td>\n",
       "      <td>80.0</td>\n",
       "      <td>80</td>\n",
       "      <td>9680.0</td>\n",
       "      <td>0.026853</td>\n",
       "      <td>0.000721</td>\n",
       "    </tr>\n",
       "    <tr>\n",
       "      <th>81</th>\n",
       "      <td></td>\n",
       "      <td>2019-09-14 16:53:45</td>\n",
       "      <td>0.628 sec</td>\n",
       "      <td>20208 obs/sec</td>\n",
       "      <td>81.0</td>\n",
       "      <td>81</td>\n",
       "      <td>9801.0</td>\n",
       "      <td>0.026183</td>\n",
       "      <td>0.000686</td>\n",
       "    </tr>\n",
       "    <tr>\n",
       "      <th>82</th>\n",
       "      <td></td>\n",
       "      <td>2019-09-14 16:53:45</td>\n",
       "      <td>0.636 sec</td>\n",
       "      <td>19880 obs/sec</td>\n",
       "      <td>81.0</td>\n",
       "      <td>81</td>\n",
       "      <td>9801.0</td>\n",
       "      <td>0.025242</td>\n",
       "      <td>0.000637</td>\n",
       "    </tr>\n",
       "  </tbody>\n",
       "</table>\n",
       "</div>"
      ],
      "text/plain": [
       "                timestamp    duration training_speed  epochs  iterations  \\\n",
       "78    2019-09-14 16:53:45   0.603 sec  20472 obs/sec    78.0          78   \n",
       "79    2019-09-14 16:53:45   0.615 sec  20209 obs/sec    79.0          79   \n",
       "80    2019-09-14 16:53:45   0.624 sec  20124 obs/sec    80.0          80   \n",
       "81    2019-09-14 16:53:45   0.628 sec  20208 obs/sec    81.0          81   \n",
       "82    2019-09-14 16:53:45   0.636 sec  19880 obs/sec    81.0          81   \n",
       "\n",
       "    samples  training_rmse  training_mse  \n",
       "78   9438.0       0.025242      0.000637  \n",
       "79   9559.0       0.031297      0.000979  \n",
       "80   9680.0       0.026853      0.000721  \n",
       "81   9801.0       0.026183      0.000686  \n",
       "82   9801.0       0.025242      0.000637  "
      ]
     },
     "execution_count": 46,
     "metadata": {},
     "output_type": "execute_result"
    }
   ],
   "source": [
    "sh = m_AE_5_3_5.score_history()\n",
    "sh.tail()"
   ]
  },
  {
   "cell_type": "markdown",
   "metadata": {},
   "source": [
    "You can see we got 0.0005 reconstructing data but with only 143 epochs"
   ]
  },
  {
   "cell_type": "markdown",
   "metadata": {},
   "source": [
    "### Stacked autoencoders"
   ]
  },
  {
   "cell_type": "markdown",
   "metadata": {},
   "source": [
    "Another option is to stack multiple models together.\n",
    "This is different than adding hidden layers to the same model tough. Let's see what are the restults"
   ]
  },
  {
   "cell_type": "code",
   "execution_count": 49,
   "metadata": {},
   "outputs": [
    {
     "name": "stdout",
     "output_type": "stream",
     "text": [
      "deepfeatures progress: |██████████████████████████████████████████████████| 100%\n"
     ]
    }
   ],
   "source": [
    "train_AE_3 = m_AE_3.deepfeatures(train, 0) # this takes the 3-neuron mode we've built and extract the features from the first layer (0 in python)"
   ]
  },
  {
   "cell_type": "code",
   "execution_count": 50,
   "metadata": {},
   "outputs": [
    {
     "data": {
      "text/plain": [
       "[121, 3]"
      ]
     },
     "execution_count": 50,
     "metadata": {},
     "output_type": "execute_result"
    }
   ],
   "source": [
    "train_AE_3.dim"
   ]
  },
  {
   "cell_type": "code",
   "execution_count": 51,
   "metadata": {},
   "outputs": [
    {
     "data": {
      "text/html": [
       "<table>\n",
       "<thead>\n",
       "<tr><th style=\"text-align: right;\">  DF.L1.C1</th><th style=\"text-align: right;\">  DF.L1.C2</th><th style=\"text-align: right;\">  DF.L1.C3</th></tr>\n",
       "</thead>\n",
       "<tbody>\n",
       "<tr><td style=\"text-align: right;\"> 0.155258 </td><td style=\"text-align: right;\">  0.453122</td><td style=\"text-align: right;\">  0.460569</td></tr>\n",
       "<tr><td style=\"text-align: right;\"> 0.323651 </td><td style=\"text-align: right;\">  0.439329</td><td style=\"text-align: right;\">  0.398356</td></tr>\n",
       "<tr><td style=\"text-align: right;\"> 0.278381 </td><td style=\"text-align: right;\">  0.50335 </td><td style=\"text-align: right;\">  0.423558</td></tr>\n",
       "<tr><td style=\"text-align: right;\"> 0.310595 </td><td style=\"text-align: right;\">  0.499269</td><td style=\"text-align: right;\">  0.399517</td></tr>\n",
       "<tr><td style=\"text-align: right;\"> 0.129707 </td><td style=\"text-align: right;\">  0.482094</td><td style=\"text-align: right;\">  0.470037</td></tr>\n",
       "<tr><td style=\"text-align: right;\">-0.030115 </td><td style=\"text-align: right;\">  0.42582 </td><td style=\"text-align: right;\">  0.453997</td></tr>\n",
       "<tr><td style=\"text-align: right;\"> 0.208125 </td><td style=\"text-align: right;\">  0.537791</td><td style=\"text-align: right;\">  0.417995</td></tr>\n",
       "<tr><td style=\"text-align: right;\"> 0.191769 </td><td style=\"text-align: right;\">  0.455314</td><td style=\"text-align: right;\">  0.442427</td></tr>\n",
       "<tr><td style=\"text-align: right;\"> 0.0670419</td><td style=\"text-align: right;\">  0.409021</td><td style=\"text-align: right;\">  0.483402</td></tr>\n",
       "<tr><td style=\"text-align: right;\"> 0.202885 </td><td style=\"text-align: right;\">  0.486321</td><td style=\"text-align: right;\">  0.433777</td></tr>\n",
       "</tbody>\n",
       "</table>"
      ]
     },
     "metadata": {},
     "output_type": "display_data"
    },
    {
     "data": {
      "text/plain": []
     },
     "execution_count": 51,
     "metadata": {},
     "output_type": "execute_result"
    }
   ],
   "source": [
    "train_AE_3"
   ]
  },
  {
   "cell_type": "markdown",
   "metadata": {},
   "source": [
    "We now take the this data and use it to feed another 3-neuron autoencoder"
   ]
  },
  {
   "cell_type": "code",
   "execution_count": 52,
   "metadata": {},
   "outputs": [
    {
     "name": "stdout",
     "output_type": "stream",
     "text": [
      "deeplearning Model Build progress: |██████████████████████████████████████| 100%\n",
      "Wall time: 6.1 s\n"
     ]
    }
   ],
   "source": [
    "m_AE_3x3 = H2OAutoEncoderEstimator(\n",
    "    hidden = [3],\n",
    "    activation = \"Tanh\",\n",
    "    epochs = 300,\n",
    "    model_id = \"m_AE_3\",\n",
    "    \n",
    "    train_samples_per_iteration = train.nrow,\n",
    "    score_interval = 0,\n",
    "    score_duty_cycle = 1.0,\n",
    "    stopping_rounds = 15\n",
    ")\n",
    "\n",
    "%time m_AE_3x3.train([0,1,2], None, train_AE_3) #the x variable is the 3-column vector from the m_AE_3 model\n"
   ]
  },
  {
   "cell_type": "code",
   "execution_count": 53,
   "metadata": {},
   "outputs": [
    {
     "data": {
      "text/html": [
       "<div>\n",
       "<style scoped>\n",
       "    .dataframe tbody tr th:only-of-type {\n",
       "        vertical-align: middle;\n",
       "    }\n",
       "\n",
       "    .dataframe tbody tr th {\n",
       "        vertical-align: top;\n",
       "    }\n",
       "\n",
       "    .dataframe thead th {\n",
       "        text-align: right;\n",
       "    }\n",
       "</style>\n",
       "<table border=\"1\" class=\"dataframe\">\n",
       "  <thead>\n",
       "    <tr style=\"text-align: right;\">\n",
       "      <th></th>\n",
       "      <th></th>\n",
       "      <th>timestamp</th>\n",
       "      <th>duration</th>\n",
       "      <th>training_speed</th>\n",
       "      <th>epochs</th>\n",
       "      <th>iterations</th>\n",
       "      <th>samples</th>\n",
       "      <th>training_rmse</th>\n",
       "      <th>training_mse</th>\n",
       "    </tr>\n",
       "  </thead>\n",
       "  <tbody>\n",
       "    <tr>\n",
       "      <th>78</th>\n",
       "      <td></td>\n",
       "      <td>2019-09-14 16:53:45</td>\n",
       "      <td>0.603 sec</td>\n",
       "      <td>20472 obs/sec</td>\n",
       "      <td>78.0</td>\n",
       "      <td>78</td>\n",
       "      <td>9438.0</td>\n",
       "      <td>0.025242</td>\n",
       "      <td>0.000637</td>\n",
       "    </tr>\n",
       "    <tr>\n",
       "      <th>79</th>\n",
       "      <td></td>\n",
       "      <td>2019-09-14 16:53:45</td>\n",
       "      <td>0.615 sec</td>\n",
       "      <td>20209 obs/sec</td>\n",
       "      <td>79.0</td>\n",
       "      <td>79</td>\n",
       "      <td>9559.0</td>\n",
       "      <td>0.031297</td>\n",
       "      <td>0.000979</td>\n",
       "    </tr>\n",
       "    <tr>\n",
       "      <th>80</th>\n",
       "      <td></td>\n",
       "      <td>2019-09-14 16:53:45</td>\n",
       "      <td>0.624 sec</td>\n",
       "      <td>20124 obs/sec</td>\n",
       "      <td>80.0</td>\n",
       "      <td>80</td>\n",
       "      <td>9680.0</td>\n",
       "      <td>0.026853</td>\n",
       "      <td>0.000721</td>\n",
       "    </tr>\n",
       "    <tr>\n",
       "      <th>81</th>\n",
       "      <td></td>\n",
       "      <td>2019-09-14 16:53:45</td>\n",
       "      <td>0.628 sec</td>\n",
       "      <td>20208 obs/sec</td>\n",
       "      <td>81.0</td>\n",
       "      <td>81</td>\n",
       "      <td>9801.0</td>\n",
       "      <td>0.026183</td>\n",
       "      <td>0.000686</td>\n",
       "    </tr>\n",
       "    <tr>\n",
       "      <th>82</th>\n",
       "      <td></td>\n",
       "      <td>2019-09-14 16:53:45</td>\n",
       "      <td>0.636 sec</td>\n",
       "      <td>19880 obs/sec</td>\n",
       "      <td>81.0</td>\n",
       "      <td>81</td>\n",
       "      <td>9801.0</td>\n",
       "      <td>0.025242</td>\n",
       "      <td>0.000637</td>\n",
       "    </tr>\n",
       "  </tbody>\n",
       "</table>\n",
       "</div>"
      ],
      "text/plain": [
       "                timestamp    duration training_speed  epochs  iterations  \\\n",
       "78    2019-09-14 16:53:45   0.603 sec  20472 obs/sec    78.0          78   \n",
       "79    2019-09-14 16:53:45   0.615 sec  20209 obs/sec    79.0          79   \n",
       "80    2019-09-14 16:53:45   0.624 sec  20124 obs/sec    80.0          80   \n",
       "81    2019-09-14 16:53:45   0.628 sec  20208 obs/sec    81.0          81   \n",
       "82    2019-09-14 16:53:45   0.636 sec  19880 obs/sec    81.0          81   \n",
       "\n",
       "    samples  training_rmse  training_mse  \n",
       "78   9438.0       0.025242      0.000637  \n",
       "79   9559.0       0.031297      0.000979  \n",
       "80   9680.0       0.026853      0.000721  \n",
       "81   9801.0       0.026183      0.000686  \n",
       "82   9801.0       0.025242      0.000637  "
      ]
     },
     "execution_count": 53,
     "metadata": {},
     "output_type": "execute_result"
    }
   ],
   "source": [
    "sh3x3 = m_AE_3x3.score_history()\n",
    "sh.tail()"
   ]
  },
  {
   "cell_type": "markdown",
   "metadata": {},
   "source": [
    "As we can see here we get a reconstructor error of 0.0005 with 143 epochs"
   ]
  },
  {
   "cell_type": "markdown",
   "metadata": {},
   "source": [
    "### Anomalies"
   ]
  },
  {
   "cell_type": "markdown",
   "metadata": {},
   "source": [
    "For this exercise we're not trying to reduce dimensions but just learn the data. So we'll first re-define the imput variable using all 5 features of the original iris dataset and then build a 16 neuron single layer neural network"
   ]
  },
  {
   "cell_type": "code",
   "execution_count": 54,
   "metadata": {},
   "outputs": [],
   "source": [
    "x = [\"sepal_len\", \"sepal_wid\", \"petal_len\", \"petal_wid\", \"class\"]"
   ]
  },
  {
   "cell_type": "code",
   "execution_count": 55,
   "metadata": {},
   "outputs": [
    {
     "name": "stdout",
     "output_type": "stream",
     "text": [
      "deeplearning Model Build progress: |██████████████████████████████████████| 100%\n",
      "Wall time: 6.09 s\n"
     ]
    }
   ],
   "source": [
    "m_anomaly16 = H2OAutoEncoderEstimator(\n",
    "    hidden = [16],\n",
    "    activation = \"Tanh\",\n",
    "    epochs = 300,\n",
    "    model_id = \"m_anomaly16\",\n",
    "    \n",
    "    train_samples_per_iteration = train.nrow,\n",
    "    score_interval = 0,\n",
    "    score_duty_cycle = 1.0,\n",
    "    stopping_rounds = 15\n",
    ")\n",
    "\n",
    "%time m_anomaly16.train(x, None, data) \n"
   ]
  },
  {
   "cell_type": "markdown",
   "metadata": {},
   "source": [
    "We can now build a dataset with the reconstruction errors from this neural network and store it into a pandas dataframe"
   ]
  },
  {
   "cell_type": "code",
   "execution_count": 56,
   "metadata": {},
   "outputs": [],
   "source": [
    "anomalies = m_anomaly16.anomaly(data).cbind(data).as_data_frame()"
   ]
  },
  {
   "cell_type": "code",
   "execution_count": 57,
   "metadata": {},
   "outputs": [],
   "source": [
    "s = anomalies.sort_values(\"Reconstruction.MSE\", ascending=False)"
   ]
  },
  {
   "cell_type": "markdown",
   "metadata": {},
   "source": [
    "By looking at the head and tail of this data frame we can take a look at the flowers of our dataset that our neural network respectively is less sure and more sure about it."
   ]
  },
  {
   "cell_type": "markdown",
   "metadata": {},
   "source": [
    "The tail shows me that this particular network feels pretty sure about the versicolor"
   ]
  },
  {
   "cell_type": "code",
   "execution_count": 58,
   "metadata": {},
   "outputs": [
    {
     "data": {
      "text/html": [
       "<div>\n",
       "<style scoped>\n",
       "    .dataframe tbody tr th:only-of-type {\n",
       "        vertical-align: middle;\n",
       "    }\n",
       "\n",
       "    .dataframe tbody tr th {\n",
       "        vertical-align: top;\n",
       "    }\n",
       "\n",
       "    .dataframe thead th {\n",
       "        text-align: right;\n",
       "    }\n",
       "</style>\n",
       "<table border=\"1\" class=\"dataframe\">\n",
       "  <thead>\n",
       "    <tr style=\"text-align: right;\">\n",
       "      <th></th>\n",
       "      <th>Reconstruction.MSE</th>\n",
       "      <th>sepal_len</th>\n",
       "      <th>sepal_wid</th>\n",
       "      <th>petal_len</th>\n",
       "      <th>petal_wid</th>\n",
       "      <th>class</th>\n",
       "    </tr>\n",
       "  </thead>\n",
       "  <tbody>\n",
       "    <tr>\n",
       "      <th>30</th>\n",
       "      <td>0.000007</td>\n",
       "      <td>4.8</td>\n",
       "      <td>3.1</td>\n",
       "      <td>1.6</td>\n",
       "      <td>0.2</td>\n",
       "      <td>Iris-setosa</td>\n",
       "    </tr>\n",
       "    <tr>\n",
       "      <th>46</th>\n",
       "      <td>0.000007</td>\n",
       "      <td>5.1</td>\n",
       "      <td>3.8</td>\n",
       "      <td>1.6</td>\n",
       "      <td>0.2</td>\n",
       "      <td>Iris-setosa</td>\n",
       "    </tr>\n",
       "    <tr>\n",
       "      <th>52</th>\n",
       "      <td>0.000005</td>\n",
       "      <td>6.9</td>\n",
       "      <td>3.1</td>\n",
       "      <td>4.9</td>\n",
       "      <td>1.5</td>\n",
       "      <td>Iris-versicolor</td>\n",
       "    </tr>\n",
       "    <tr>\n",
       "      <th>29</th>\n",
       "      <td>0.000005</td>\n",
       "      <td>4.7</td>\n",
       "      <td>3.2</td>\n",
       "      <td>1.6</td>\n",
       "      <td>0.2</td>\n",
       "      <td>Iris-setosa</td>\n",
       "    </tr>\n",
       "    <tr>\n",
       "      <th>11</th>\n",
       "      <td>0.000003</td>\n",
       "      <td>4.8</td>\n",
       "      <td>3.4</td>\n",
       "      <td>1.6</td>\n",
       "      <td>0.2</td>\n",
       "      <td>Iris-setosa</td>\n",
       "    </tr>\n",
       "  </tbody>\n",
       "</table>\n",
       "</div>"
      ],
      "text/plain": [
       "    Reconstruction.MSE  sepal_len  sepal_wid  petal_len  petal_wid  \\\n",
       "30            0.000007        4.8        3.1        1.6        0.2   \n",
       "46            0.000007        5.1        3.8        1.6        0.2   \n",
       "52            0.000005        6.9        3.1        4.9        1.5   \n",
       "29            0.000005        4.7        3.2        1.6        0.2   \n",
       "11            0.000003        4.8        3.4        1.6        0.2   \n",
       "\n",
       "              class  \n",
       "30      Iris-setosa  \n",
       "46      Iris-setosa  \n",
       "52  Iris-versicolor  \n",
       "29      Iris-setosa  \n",
       "11      Iris-setosa  "
      ]
     },
     "execution_count": 58,
     "metadata": {},
     "output_type": "execute_result"
    }
   ],
   "source": [
    "s.tail()"
   ]
  },
  {
   "cell_type": "markdown",
   "metadata": {},
   "source": [
    "While looking at the head we can see those it is less sure about. "
   ]
  },
  {
   "cell_type": "code",
   "execution_count": 59,
   "metadata": {},
   "outputs": [
    {
     "data": {
      "text/html": [
       "<div>\n",
       "<style scoped>\n",
       "    .dataframe tbody tr th:only-of-type {\n",
       "        vertical-align: middle;\n",
       "    }\n",
       "\n",
       "    .dataframe tbody tr th {\n",
       "        vertical-align: top;\n",
       "    }\n",
       "\n",
       "    .dataframe thead th {\n",
       "        text-align: right;\n",
       "    }\n",
       "</style>\n",
       "<table border=\"1\" class=\"dataframe\">\n",
       "  <thead>\n",
       "    <tr style=\"text-align: right;\">\n",
       "      <th></th>\n",
       "      <th>Reconstruction.MSE</th>\n",
       "      <th>sepal_len</th>\n",
       "      <th>sepal_wid</th>\n",
       "      <th>petal_len</th>\n",
       "      <th>petal_wid</th>\n",
       "      <th>class</th>\n",
       "    </tr>\n",
       "  </thead>\n",
       "  <tbody>\n",
       "    <tr>\n",
       "      <th>117</th>\n",
       "      <td>0.000367</td>\n",
       "      <td>7.7</td>\n",
       "      <td>3.8</td>\n",
       "      <td>6.7</td>\n",
       "      <td>2.2</td>\n",
       "      <td>Iris-virginica</td>\n",
       "    </tr>\n",
       "    <tr>\n",
       "      <th>41</th>\n",
       "      <td>0.000317</td>\n",
       "      <td>4.5</td>\n",
       "      <td>2.3</td>\n",
       "      <td>1.3</td>\n",
       "      <td>0.3</td>\n",
       "      <td>Iris-setosa</td>\n",
       "    </tr>\n",
       "    <tr>\n",
       "      <th>106</th>\n",
       "      <td>0.000317</td>\n",
       "      <td>4.9</td>\n",
       "      <td>2.5</td>\n",
       "      <td>4.5</td>\n",
       "      <td>1.7</td>\n",
       "      <td>Iris-virginica</td>\n",
       "    </tr>\n",
       "    <tr>\n",
       "      <th>60</th>\n",
       "      <td>0.000317</td>\n",
       "      <td>5.0</td>\n",
       "      <td>2.0</td>\n",
       "      <td>3.5</td>\n",
       "      <td>1.0</td>\n",
       "      <td>Iris-versicolor</td>\n",
       "    </tr>\n",
       "    <tr>\n",
       "      <th>119</th>\n",
       "      <td>0.000305</td>\n",
       "      <td>6.0</td>\n",
       "      <td>2.2</td>\n",
       "      <td>5.0</td>\n",
       "      <td>1.5</td>\n",
       "      <td>Iris-virginica</td>\n",
       "    </tr>\n",
       "  </tbody>\n",
       "</table>\n",
       "</div>"
      ],
      "text/plain": [
       "     Reconstruction.MSE  sepal_len  sepal_wid  petal_len  petal_wid  \\\n",
       "117            0.000367        7.7        3.8        6.7        2.2   \n",
       "41             0.000317        4.5        2.3        1.3        0.3   \n",
       "106            0.000317        4.9        2.5        4.5        1.7   \n",
       "60             0.000317        5.0        2.0        3.5        1.0   \n",
       "119            0.000305        6.0        2.2        5.0        1.5   \n",
       "\n",
       "               class  \n",
       "117   Iris-virginica  \n",
       "41       Iris-setosa  \n",
       "106   Iris-virginica  \n",
       "60   Iris-versicolor  \n",
       "119   Iris-virginica  "
      ]
     },
     "execution_count": 59,
     "metadata": {},
     "output_type": "execute_result"
    }
   ],
   "source": [
    "s.head()"
   ]
  },
  {
   "cell_type": "markdown",
   "metadata": {},
   "source": [
    "In a financial application, the head will give us the list of customers we may want to double check by a person as they don't look similar to the typical \"good transactions\""
   ]
  },
  {
   "cell_type": "markdown",
   "metadata": {},
   "source": [
    "# 6. PCA and GLRM for Dimensionality Reduction "
   ]
  },
  {
   "cell_type": "markdown",
   "metadata": {},
   "source": [
    "Another option to perform dimensionality reduction is to use PCA - Principal Component Analysis"
   ]
  },
  {
   "cell_type": "markdown",
   "metadata": {},
   "source": [
    "### PCA (Principal Component Analysis)"
   ]
  },
  {
   "cell_type": "markdown",
   "metadata": {},
   "source": [
    "Without going into the mathematical details about what PCA is you should think it as a technique to identify a number of INDIPENDENT VARIABLES - or axix if you will - that you can use to represent your data."
   ]
  },
  {
   "cell_type": "markdown",
   "metadata": {},
   "source": [
    "you can look up more details here: https://en.wikipedia.org/wiki/Principal_component_analysis"
   ]
  },
  {
   "cell_type": "code",
   "execution_count": 60,
   "metadata": {},
   "outputs": [],
   "source": [
    "from h2o.estimators.pca import H2OPrincipalComponentAnalysisEstimator"
   ]
  },
  {
   "cell_type": "markdown",
   "metadata": {},
   "source": [
    "In this case we'll set k = 4 which will give me 4 indipendent variables (principal components) representing the data. This means we are not doing any compression (since we have 4 imput variables)"
   ]
  },
  {
   "cell_type": "code",
   "execution_count": 61,
   "metadata": {},
   "outputs": [
    {
     "name": "stdout",
     "output_type": "stream",
     "text": [
      "pca Model Build progress: |███████████████████████████████████████████████| 100%\n",
      "Wall time: 6.12 s\n"
     ]
    }
   ],
   "source": [
    "m_pca = H2OPrincipalComponentAnalysisEstimator(\n",
    "    k = 4,\n",
    "    impute_missing = True\n",
    ")\n",
    "\n",
    "%time m_pca.train(x, None, train)"
   ]
  },
  {
   "cell_type": "code",
   "execution_count": 62,
   "metadata": {},
   "outputs": [
    {
     "name": "stdout",
     "output_type": "stream",
     "text": [
      "Model Details\n",
      "=============\n",
      "H2OPrincipalComponentAnalysisEstimator :  Principal Components Analysis\n",
      "Model Key:  PCA_model_python_1568466473771_2135\n",
      "\n",
      "\n",
      "Importance of components: "
     ]
    },
    {
     "data": {
      "text/html": [
       "<div>\n",
       "<style scoped>\n",
       "    .dataframe tbody tr th:only-of-type {\n",
       "        vertical-align: middle;\n",
       "    }\n",
       "\n",
       "    .dataframe tbody tr th {\n",
       "        vertical-align: top;\n",
       "    }\n",
       "\n",
       "    .dataframe thead th {\n",
       "        text-align: right;\n",
       "    }\n",
       "</style>\n",
       "<table border=\"1\" class=\"dataframe\">\n",
       "  <thead>\n",
       "    <tr style=\"text-align: right;\">\n",
       "      <th></th>\n",
       "      <th></th>\n",
       "      <th>pc1</th>\n",
       "      <th>pc2</th>\n",
       "      <th>pc3</th>\n",
       "      <th>pc4</th>\n",
       "    </tr>\n",
       "  </thead>\n",
       "  <tbody>\n",
       "    <tr>\n",
       "      <th>0</th>\n",
       "      <td>Standard deviation</td>\n",
       "      <td>7.862345</td>\n",
       "      <td>1.489687</td>\n",
       "      <td>0.581041</td>\n",
       "      <td>0.252247</td>\n",
       "    </tr>\n",
       "    <tr>\n",
       "      <th>1</th>\n",
       "      <td>Proportion of Variance</td>\n",
       "      <td>0.958956</td>\n",
       "      <td>0.034426</td>\n",
       "      <td>0.005237</td>\n",
       "      <td>0.000987</td>\n",
       "    </tr>\n",
       "    <tr>\n",
       "      <th>2</th>\n",
       "      <td>Cumulative Proportion</td>\n",
       "      <td>0.958956</td>\n",
       "      <td>0.993382</td>\n",
       "      <td>0.998619</td>\n",
       "      <td>0.999606</td>\n",
       "    </tr>\n",
       "  </tbody>\n",
       "</table>\n",
       "</div>"
      ],
      "text/plain": [
       "                                pc1       pc2       pc3       pc4\n",
       "0      Standard deviation  7.862345  1.489687  0.581041  0.252247\n",
       "1  Proportion of Variance  0.958956  0.034426  0.005237  0.000987\n",
       "2   Cumulative Proportion  0.958956  0.993382  0.998619  0.999606"
      ]
     },
     "metadata": {},
     "output_type": "display_data"
    },
    {
     "name": "stdout",
     "output_type": "stream",
     "text": [
      "\n",
      "\n",
      "ModelMetricsPCA: pca\n",
      "** Reported on train data. **\n",
      "\n",
      "MSE: NaN\n",
      "RMSE: NaN\n",
      "\n",
      "Scoring History for GramSVD: "
     ]
    },
    {
     "data": {
      "text/html": [
       "<div>\n",
       "<style scoped>\n",
       "    .dataframe tbody tr th:only-of-type {\n",
       "        vertical-align: middle;\n",
       "    }\n",
       "\n",
       "    .dataframe tbody tr th {\n",
       "        vertical-align: top;\n",
       "    }\n",
       "\n",
       "    .dataframe thead th {\n",
       "        text-align: right;\n",
       "    }\n",
       "</style>\n",
       "<table border=\"1\" class=\"dataframe\">\n",
       "  <thead>\n",
       "    <tr style=\"text-align: right;\">\n",
       "      <th></th>\n",
       "      <th></th>\n",
       "      <th>timestamp</th>\n",
       "      <th>duration</th>\n",
       "      <th>iterations</th>\n",
       "    </tr>\n",
       "  </thead>\n",
       "  <tbody>\n",
       "    <tr>\n",
       "      <th>0</th>\n",
       "      <td></td>\n",
       "      <td>2019-09-14 16:55:10</td>\n",
       "      <td>1.715 sec</td>\n",
       "      <td>0.0</td>\n",
       "    </tr>\n",
       "  </tbody>\n",
       "</table>\n",
       "</div>"
      ],
      "text/plain": [
       "               timestamp    duration  iterations\n",
       "0    2019-09-14 16:55:10   1.715 sec         0.0"
      ]
     },
     "metadata": {},
     "output_type": "display_data"
    },
    {
     "data": {
      "text/plain": []
     },
     "execution_count": 62,
     "metadata": {},
     "output_type": "execute_result"
    }
   ],
   "source": [
    "m_pca"
   ]
  },
  {
   "cell_type": "markdown",
   "metadata": {},
   "source": [
    "In the model details above we should have the coefficients indicating the importance of each variable (it doesn't for some reason on my version). You should see that the PC1 can represent the data with more than 95% of confidence while the other variables only contribute very little.\n",
    "\n",
    "This means we could perform dimentionality reduction."
   ]
  },
  {
   "cell_type": "markdown",
   "metadata": {},
   "source": [
    "To obtain the principal component representation we use predict function"
   ]
  },
  {
   "cell_type": "code",
   "execution_count": 63,
   "metadata": {},
   "outputs": [
    {
     "name": "stdout",
     "output_type": "stream",
     "text": [
      "pca prediction progress: |████████████████████████████████████████████████| 100%\n"
     ]
    }
   ],
   "source": [
    "p_PCA = m_pca.predict(train)"
   ]
  },
  {
   "cell_type": "code",
   "execution_count": 64,
   "metadata": {},
   "outputs": [
    {
     "data": {
      "text/html": [
       "<table>\n",
       "<thead>\n",
       "<tr><th style=\"text-align: right;\">     PC1</th><th style=\"text-align: right;\">     PC2</th><th style=\"text-align: right;\">     PC3</th><th style=\"text-align: right;\">       PC4</th></tr>\n",
       "</thead>\n",
       "<tbody>\n",
       "<tr><td style=\"text-align: right;\">-5.91038</td><td style=\"text-align: right;\">-2.29922</td><td style=\"text-align: right;\">0.194961</td><td style=\"text-align: right;\">-0.0533056</td></tr>\n",
       "<tr><td style=\"text-align: right;\">-5.56902</td><td style=\"text-align: right;\">-1.97345</td><td style=\"text-align: right;\">0.115781</td><td style=\"text-align: right;\">-0.291559 </td></tr>\n",
       "<tr><td style=\"text-align: right;\">-5.44469</td><td style=\"text-align: right;\">-2.09299</td><td style=\"text-align: right;\">0.176716</td><td style=\"text-align: right;\">-0.0592165</td></tr>\n",
       "<tr><td style=\"text-align: right;\">-5.43304</td><td style=\"text-align: right;\">-1.87266</td><td style=\"text-align: right;\">0.15335 </td><td style=\"text-align: right;\">-0.0488478</td></tr>\n",
       "<tr><td style=\"text-align: right;\">-5.87362</td><td style=\"text-align: right;\">-2.32447</td><td style=\"text-align: right;\">0.222313</td><td style=\"text-align: right;\"> 0.0693357</td></tr>\n",
       "<tr><td style=\"text-align: right;\">-6.47457</td><td style=\"text-align: right;\">-2.32338</td><td style=\"text-align: right;\">0.260379</td><td style=\"text-align: right;\"> 0.180781 </td></tr>\n",
       "<tr><td style=\"text-align: right;\">-5.51382</td><td style=\"text-align: right;\">-2.06833</td><td style=\"text-align: right;\">0.233104</td><td style=\"text-align: right;\"> 0.185269 </td></tr>\n",
       "<tr><td style=\"text-align: right;\">-5.84792</td><td style=\"text-align: right;\">-2.14793</td><td style=\"text-align: right;\">0.177828</td><td style=\"text-align: right;\">-0.0558771</td></tr>\n",
       "<tr><td style=\"text-align: right;\">-6.26279</td><td style=\"text-align: right;\">-2.4232 </td><td style=\"text-align: right;\">0.202305</td><td style=\"text-align: right;\">-0.0629065</td></tr>\n",
       "<tr><td style=\"text-align: right;\">-5.74869</td><td style=\"text-align: right;\">-2.02189</td><td style=\"text-align: right;\">0.188046</td><td style=\"text-align: right;\"> 0.0641926</td></tr>\n",
       "</tbody>\n",
       "</table>"
      ]
     },
     "metadata": {},
     "output_type": "display_data"
    },
    {
     "data": {
      "text/plain": []
     },
     "execution_count": 64,
     "metadata": {},
     "output_type": "execute_result"
    }
   ],
   "source": [
    "p_PCA"
   ]
  },
  {
   "cell_type": "markdown",
   "metadata": {},
   "source": [
    "If PC1 carries most of the information and we are dealing with a more complex problem we could choose to just use PC1 to represent the data and continue the data workflow just with PC1"
   ]
  },
  {
   "cell_type": "markdown",
   "metadata": {},
   "source": [
    "### GLRM (Generalized Low Rank Decomposition)"
   ]
  },
  {
   "cell_type": "markdown",
   "metadata": {},
   "source": [
    "We can try to do the same thing we've done with PCA or with autoencoders before"
   ]
  },
  {
   "cell_type": "code",
   "execution_count": 65,
   "metadata": {},
   "outputs": [],
   "source": [
    "from h2o.estimators.glrm import H2OGeneralizedLowRankEstimator"
   ]
  },
  {
   "cell_type": "markdown",
   "metadata": {},
   "source": [
    "The main advantage of GLRM is that it can deal with cathegorical data (enum data) well."
   ]
  },
  {
   "cell_type": "code",
   "execution_count": 66,
   "metadata": {},
   "outputs": [],
   "source": [
    "x = [\"sepal_len\", \"sepal_wid\", \"petal_len\", \"petal_wid\", \"class\"]"
   ]
  },
  {
   "cell_type": "code",
   "execution_count": 67,
   "metadata": {},
   "outputs": [
    {
     "name": "stdout",
     "output_type": "stream",
     "text": [
      "glrm Model Build progress: |██████████████████████████████████████████████| 100%\n",
      "Wall time: 6.14 s\n"
     ]
    }
   ],
   "source": [
    "m_glrm3 = H2OGeneralizedLowRankEstimator(\n",
    "    k = 3\n",
    ")\n",
    "\n",
    "%time m_glrm3.train(x, None, train)"
   ]
  },
  {
   "cell_type": "code",
   "execution_count": 68,
   "metadata": {},
   "outputs": [
    {
     "name": "stdout",
     "output_type": "stream",
     "text": [
      "Model Details\n",
      "=============\n",
      "H2OGeneralizedLowRankEstimator :  Generalized Low Rank Modeling\n",
      "Model Key:  GLRM_model_python_1568466473771_2136\n",
      "\n",
      "\n",
      "Model Summary: "
     ]
    },
    {
     "data": {
      "text/html": [
       "<div>\n",
       "<style scoped>\n",
       "    .dataframe tbody tr th:only-of-type {\n",
       "        vertical-align: middle;\n",
       "    }\n",
       "\n",
       "    .dataframe tbody tr th {\n",
       "        vertical-align: top;\n",
       "    }\n",
       "\n",
       "    .dataframe thead th {\n",
       "        text-align: right;\n",
       "    }\n",
       "</style>\n",
       "<table border=\"1\" class=\"dataframe\">\n",
       "  <thead>\n",
       "    <tr style=\"text-align: right;\">\n",
       "      <th></th>\n",
       "      <th></th>\n",
       "      <th>number_of_iterations</th>\n",
       "      <th>final_step_size</th>\n",
       "      <th>final_objective_value</th>\n",
       "    </tr>\n",
       "  </thead>\n",
       "  <tbody>\n",
       "    <tr>\n",
       "      <th>0</th>\n",
       "      <td></td>\n",
       "      <td>475.0</td>\n",
       "      <td>0.000099</td>\n",
       "      <td>9.897283</td>\n",
       "    </tr>\n",
       "  </tbody>\n",
       "</table>\n",
       "</div>"
      ],
      "text/plain": [
       "     number_of_iterations  final_step_size  final_objective_value\n",
       "0                   475.0         0.000099               9.897283"
      ]
     },
     "metadata": {},
     "output_type": "display_data"
    },
    {
     "name": "stdout",
     "output_type": "stream",
     "text": [
      "\n",
      "\n",
      "ModelMetricsGLRM: glrm\n",
      "** Reported on train data. **\n",
      "\n",
      "MSE: NaN\n",
      "RMSE: NaN\n",
      "Sum of Squared Error (Numeric): 9.897169768518502\n",
      "Misclassification Error (Categorical): 0.0\n",
      "\n",
      "Scoring History: "
     ]
    },
    {
     "data": {
      "text/html": [
       "<div>\n",
       "<style scoped>\n",
       "    .dataframe tbody tr th:only-of-type {\n",
       "        vertical-align: middle;\n",
       "    }\n",
       "\n",
       "    .dataframe tbody tr th {\n",
       "        vertical-align: top;\n",
       "    }\n",
       "\n",
       "    .dataframe thead th {\n",
       "        text-align: right;\n",
       "    }\n",
       "</style>\n",
       "<table border=\"1\" class=\"dataframe\">\n",
       "  <thead>\n",
       "    <tr style=\"text-align: right;\">\n",
       "      <th></th>\n",
       "      <th></th>\n",
       "      <th>timestamp</th>\n",
       "      <th>duration</th>\n",
       "      <th>iterations</th>\n",
       "      <th>step_size</th>\n",
       "      <th>objective</th>\n",
       "    </tr>\n",
       "  </thead>\n",
       "  <tbody>\n",
       "    <tr>\n",
       "      <th>0</th>\n",
       "      <td></td>\n",
       "      <td>2019-09-14 16:55:21</td>\n",
       "      <td>0.194 sec</td>\n",
       "      <td>0.0</td>\n",
       "      <td>0.666667</td>\n",
       "      <td>964.061937</td>\n",
       "    </tr>\n",
       "    <tr>\n",
       "      <th>1</th>\n",
       "      <td></td>\n",
       "      <td>2019-09-14 16:55:21</td>\n",
       "      <td>0.200 sec</td>\n",
       "      <td>1.0</td>\n",
       "      <td>0.444444</td>\n",
       "      <td>964.061937</td>\n",
       "    </tr>\n",
       "    <tr>\n",
       "      <th>2</th>\n",
       "      <td></td>\n",
       "      <td>2019-09-14 16:55:21</td>\n",
       "      <td>0.200 sec</td>\n",
       "      <td>2.0</td>\n",
       "      <td>0.222222</td>\n",
       "      <td>964.061937</td>\n",
       "    </tr>\n",
       "    <tr>\n",
       "      <th>3</th>\n",
       "      <td></td>\n",
       "      <td>2019-09-14 16:55:21</td>\n",
       "      <td>0.204 sec</td>\n",
       "      <td>3.0</td>\n",
       "      <td>0.074074</td>\n",
       "      <td>964.061937</td>\n",
       "    </tr>\n",
       "    <tr>\n",
       "      <th>4</th>\n",
       "      <td></td>\n",
       "      <td>2019-09-14 16:55:21</td>\n",
       "      <td>0.208 sec</td>\n",
       "      <td>4.0</td>\n",
       "      <td>0.018519</td>\n",
       "      <td>964.061937</td>\n",
       "    </tr>\n",
       "    <tr>\n",
       "      <th>5</th>\n",
       "      <td></td>\n",
       "      <td>2019-09-14 16:55:21</td>\n",
       "      <td>0.212 sec</td>\n",
       "      <td>5.0</td>\n",
       "      <td>0.019444</td>\n",
       "      <td>663.619635</td>\n",
       "    </tr>\n",
       "    <tr>\n",
       "      <th>6</th>\n",
       "      <td></td>\n",
       "      <td>2019-09-14 16:55:21</td>\n",
       "      <td>0.218 sec</td>\n",
       "      <td>6.0</td>\n",
       "      <td>0.020417</td>\n",
       "      <td>592.750066</td>\n",
       "    </tr>\n",
       "    <tr>\n",
       "      <th>7</th>\n",
       "      <td></td>\n",
       "      <td>2019-09-14 16:55:21</td>\n",
       "      <td>0.223 sec</td>\n",
       "      <td>7.0</td>\n",
       "      <td>0.021438</td>\n",
       "      <td>546.259785</td>\n",
       "    </tr>\n",
       "    <tr>\n",
       "      <th>8</th>\n",
       "      <td></td>\n",
       "      <td>2019-09-14 16:55:21</td>\n",
       "      <td>0.224 sec</td>\n",
       "      <td>8.0</td>\n",
       "      <td>0.022509</td>\n",
       "      <td>501.002290</td>\n",
       "    </tr>\n",
       "    <tr>\n",
       "      <th>9</th>\n",
       "      <td></td>\n",
       "      <td>2019-09-14 16:55:21</td>\n",
       "      <td>0.229 sec</td>\n",
       "      <td>9.0</td>\n",
       "      <td>0.023635</td>\n",
       "      <td>453.551159</td>\n",
       "    </tr>\n",
       "    <tr>\n",
       "      <th>10</th>\n",
       "      <td></td>\n",
       "      <td>2019-09-14 16:55:21</td>\n",
       "      <td>0.231 sec</td>\n",
       "      <td>10.0</td>\n",
       "      <td>0.024817</td>\n",
       "      <td>404.638156</td>\n",
       "    </tr>\n",
       "    <tr>\n",
       "      <th>11</th>\n",
       "      <td></td>\n",
       "      <td>2019-09-14 16:55:21</td>\n",
       "      <td>0.233 sec</td>\n",
       "      <td>11.0</td>\n",
       "      <td>0.026057</td>\n",
       "      <td>355.913225</td>\n",
       "    </tr>\n",
       "    <tr>\n",
       "      <th>12</th>\n",
       "      <td></td>\n",
       "      <td>2019-09-14 16:55:21</td>\n",
       "      <td>0.238 sec</td>\n",
       "      <td>12.0</td>\n",
       "      <td>0.027360</td>\n",
       "      <td>309.603533</td>\n",
       "    </tr>\n",
       "    <tr>\n",
       "      <th>13</th>\n",
       "      <td></td>\n",
       "      <td>2019-09-14 16:55:21</td>\n",
       "      <td>0.243 sec</td>\n",
       "      <td>13.0</td>\n",
       "      <td>0.028728</td>\n",
       "      <td>268.110171</td>\n",
       "    </tr>\n",
       "    <tr>\n",
       "      <th>14</th>\n",
       "      <td></td>\n",
       "      <td>2019-09-14 16:55:21</td>\n",
       "      <td>0.247 sec</td>\n",
       "      <td>14.0</td>\n",
       "      <td>0.030165</td>\n",
       "      <td>236.085409</td>\n",
       "    </tr>\n",
       "    <tr>\n",
       "      <th>15</th>\n",
       "      <td></td>\n",
       "      <td>2019-09-14 16:55:21</td>\n",
       "      <td>0.248 sec</td>\n",
       "      <td>15.0</td>\n",
       "      <td>0.031673</td>\n",
       "      <td>209.585477</td>\n",
       "    </tr>\n",
       "    <tr>\n",
       "      <th>16</th>\n",
       "      <td></td>\n",
       "      <td>2019-09-14 16:55:21</td>\n",
       "      <td>0.251 sec</td>\n",
       "      <td>16.0</td>\n",
       "      <td>0.033257</td>\n",
       "      <td>184.497751</td>\n",
       "    </tr>\n",
       "    <tr>\n",
       "      <th>17</th>\n",
       "      <td></td>\n",
       "      <td>2019-09-14 16:55:21</td>\n",
       "      <td>0.253 sec</td>\n",
       "      <td>17.0</td>\n",
       "      <td>0.034919</td>\n",
       "      <td>163.443741</td>\n",
       "    </tr>\n",
       "    <tr>\n",
       "      <th>18</th>\n",
       "      <td></td>\n",
       "      <td>2019-09-14 16:55:21</td>\n",
       "      <td>0.257 sec</td>\n",
       "      <td>18.0</td>\n",
       "      <td>0.036665</td>\n",
       "      <td>151.021080</td>\n",
       "    </tr>\n",
       "    <tr>\n",
       "      <th>19</th>\n",
       "      <td></td>\n",
       "      <td>2019-09-14 16:55:21</td>\n",
       "      <td>0.264 sec</td>\n",
       "      <td>19.0</td>\n",
       "      <td>0.038499</td>\n",
       "      <td>144.491914</td>\n",
       "    </tr>\n",
       "  </tbody>\n",
       "</table>\n",
       "</div>"
      ],
      "text/plain": [
       "                timestamp    duration  iterations  step_size   objective\n",
       "0     2019-09-14 16:55:21   0.194 sec         0.0   0.666667  964.061937\n",
       "1     2019-09-14 16:55:21   0.200 sec         1.0   0.444444  964.061937\n",
       "2     2019-09-14 16:55:21   0.200 sec         2.0   0.222222  964.061937\n",
       "3     2019-09-14 16:55:21   0.204 sec         3.0   0.074074  964.061937\n",
       "4     2019-09-14 16:55:21   0.208 sec         4.0   0.018519  964.061937\n",
       "5     2019-09-14 16:55:21   0.212 sec         5.0   0.019444  663.619635\n",
       "6     2019-09-14 16:55:21   0.218 sec         6.0   0.020417  592.750066\n",
       "7     2019-09-14 16:55:21   0.223 sec         7.0   0.021438  546.259785\n",
       "8     2019-09-14 16:55:21   0.224 sec         8.0   0.022509  501.002290\n",
       "9     2019-09-14 16:55:21   0.229 sec         9.0   0.023635  453.551159\n",
       "10    2019-09-14 16:55:21   0.231 sec        10.0   0.024817  404.638156\n",
       "11    2019-09-14 16:55:21   0.233 sec        11.0   0.026057  355.913225\n",
       "12    2019-09-14 16:55:21   0.238 sec        12.0   0.027360  309.603533\n",
       "13    2019-09-14 16:55:21   0.243 sec        13.0   0.028728  268.110171\n",
       "14    2019-09-14 16:55:21   0.247 sec        14.0   0.030165  236.085409\n",
       "15    2019-09-14 16:55:21   0.248 sec        15.0   0.031673  209.585477\n",
       "16    2019-09-14 16:55:21   0.251 sec        16.0   0.033257  184.497751\n",
       "17    2019-09-14 16:55:21   0.253 sec        17.0   0.034919  163.443741\n",
       "18    2019-09-14 16:55:21   0.257 sec        18.0   0.036665  151.021080\n",
       "19    2019-09-14 16:55:21   0.264 sec        19.0   0.038499  144.491914"
      ]
     },
     "metadata": {},
     "output_type": "display_data"
    },
    {
     "name": "stdout",
     "output_type": "stream",
     "text": [
      "\n",
      "See the whole table with table.as_data_frame()\n"
     ]
    },
    {
     "data": {
      "text/plain": []
     },
     "execution_count": 68,
     "metadata": {},
     "output_type": "execute_result"
    }
   ],
   "source": [
    "m_glrm3"
   ]
  },
  {
   "cell_type": "code",
   "execution_count": 69,
   "metadata": {},
   "outputs": [
    {
     "name": "stdout",
     "output_type": "stream",
     "text": [
      "glrm prediction progress: |███████████████████████████████████████████████| 100%\n"
     ]
    }
   ],
   "source": [
    "p_GLRM3 = m_glrm3.predict(train)"
   ]
  },
  {
   "cell_type": "code",
   "execution_count": 70,
   "metadata": {},
   "outputs": [
    {
     "data": {
      "text/html": [
       "<table>\n",
       "<thead>\n",
       "<tr><th style=\"text-align: right;\">  reconstr_sepal_len</th><th style=\"text-align: right;\">  reconstr_sepal_wid</th><th style=\"text-align: right;\">  reconstr_petal_len</th><th style=\"text-align: right;\">  reconstr_petal_wid</th><th>reconstr_class  </th></tr>\n",
       "</thead>\n",
       "<tbody>\n",
       "<tr><td style=\"text-align: right;\">             5.07691</td><td style=\"text-align: right;\">             3.52883</td><td style=\"text-align: right;\">             1.4048 </td><td style=\"text-align: right;\">            0.223692</td><td>Iris-setosa     </td></tr>\n",
       "<tr><td style=\"text-align: right;\">             4.72945</td><td style=\"text-align: right;\">             3.22073</td><td style=\"text-align: right;\">             1.4612 </td><td style=\"text-align: right;\">            0.280057</td><td>Iris-setosa     </td></tr>\n",
       "<tr><td style=\"text-align: right;\">             4.66608</td><td style=\"text-align: right;\">             3.24201</td><td style=\"text-align: right;\">             1.31163</td><td style=\"text-align: right;\">            0.221477</td><td>Iris-setosa     </td></tr>\n",
       "<tr><td style=\"text-align: right;\">             4.59342</td><td style=\"text-align: right;\">             3.11725</td><td style=\"text-align: right;\">             1.46403</td><td style=\"text-align: right;\">            0.30018 </td><td>Iris-setosa     </td></tr>\n",
       "<tr><td style=\"text-align: right;\">             5.0537 </td><td style=\"text-align: right;\">             3.53291</td><td style=\"text-align: right;\">             1.36677</td><td style=\"text-align: right;\">            0.213031</td><td>Iris-setosa     </td></tr>\n",
       "<tr><td style=\"text-align: right;\">             5.50001</td><td style=\"text-align: right;\">             3.76599</td><td style=\"text-align: right;\">             1.67755</td><td style=\"text-align: right;\">            0.324453</td><td>Iris-setosa     </td></tr>\n",
       "<tr><td style=\"text-align: right;\">             4.70179</td><td style=\"text-align: right;\">             3.26753</td><td style=\"text-align: right;\">             1.36286</td><td style=\"text-align: right;\">            0.257736</td><td>Iris-setosa     </td></tr>\n",
       "<tr><td style=\"text-align: right;\">             4.98627</td><td style=\"text-align: right;\">             3.42232</td><td style=\"text-align: right;\">             1.48131</td><td style=\"text-align: right;\">            0.268108</td><td>Iris-setosa     </td></tr>\n",
       "<tr><td style=\"text-align: right;\">             5.37951</td><td style=\"text-align: right;\">             3.72689</td><td style=\"text-align: right;\">             1.4986 </td><td style=\"text-align: right;\">            0.235343</td><td>Iris-setosa     </td></tr>\n",
       "<tr><td style=\"text-align: right;\">             4.87201</td><td style=\"text-align: right;\">             3.32048</td><td style=\"text-align: right;\">             1.51971</td><td style=\"text-align: right;\">            0.302603</td><td>Iris-setosa     </td></tr>\n",
       "</tbody>\n",
       "</table>"
      ]
     },
     "metadata": {},
     "output_type": "display_data"
    },
    {
     "data": {
      "text/plain": []
     },
     "execution_count": 70,
     "metadata": {},
     "output_type": "execute_result"
    }
   ],
   "source": [
    "p_GLRM3"
   ]
  },
  {
   "cell_type": "markdown",
   "metadata": {},
   "source": [
    "If we look at the results on H2O Flow we can see the following:\n",
    "\n",
    "OUTPUT - IMPORTANCE OF COMPONENTS\n",
    "\n",
    "                            pc1\t    pc2\t    pc3\n",
    "        Standard deviation\t7.6560\t2.1130\t1.3167\n",
    "    Proportion of Variance\t0.9044\t0.0689\t0.0267\n",
    "    Cumulative Proportion\t0.9044\t0.9733\t1.0\n"
   ]
  },
  {
   "cell_type": "markdown",
   "metadata": {},
   "source": [
    "So we can still represent 90% of the information with just one varriable (PC1) but with only 3 variables the results got worse."
   ]
  },
  {
   "cell_type": "markdown",
   "metadata": {},
   "source": [
    "# 7. K-means clustering"
   ]
  },
  {
   "cell_type": "markdown",
   "metadata": {},
   "source": [
    "Here you can read more about K-means clustering:\n",
    "\n",
    "https://en.wikipedia.org/wiki/K-means_clustering\n",
    "\n",
    "http://docs.h2o.ai/h2o/latest-stable/h2o-docs/data-science/k-means.html\n",
    "\n",
    "https://www.datascience.com/blog/k-means-alternatives\n",
    "\n",
    "https://en.wikipedia.org/wiki/Curse_of_dimensionality\n"
   ]
  },
  {
   "cell_type": "code",
   "execution_count": 71,
   "metadata": {},
   "outputs": [],
   "source": [
    "from h2o.estimators.kmeans import H2OKMeansEstimator"
   ]
  },
  {
   "cell_type": "markdown",
   "metadata": {},
   "source": [
    "The code is pretty simple, following the syntax we've used so far. The only parameter which is worth noting is k - the number of clusters we want to use to describe our data.\n",
    "\n",
    "Setting this parameter requires that we know something about the data\n"
   ]
  },
  {
   "cell_type": "code",
   "execution_count": 72,
   "metadata": {},
   "outputs": [],
   "source": [
    "x = [\"sepal_len\", \"sepal_wid\", \"petal_len\", \"petal_wid\"]"
   ]
  },
  {
   "cell_type": "code",
   "execution_count": 73,
   "metadata": {},
   "outputs": [
    {
     "name": "stdout",
     "output_type": "stream",
     "text": [
      "kmeans Model Build progress: |████████████████████████████████████████████| 100%\n",
      "Wall time: 6.1 s\n"
     ]
    }
   ],
   "source": [
    "m = H2OKMeansEstimator(\n",
    "    k = 5\n",
    ")\n",
    "\n",
    "%time m.train(x, training_frame = train)"
   ]
  },
  {
   "cell_type": "code",
   "execution_count": 74,
   "metadata": {},
   "outputs": [
    {
     "name": "stdout",
     "output_type": "stream",
     "text": [
      "kmeans prediction progress: |█████████████████████████████████████████████| 100%\n"
     ]
    }
   ],
   "source": [
    "p = m.predict(train)"
   ]
  },
  {
   "cell_type": "code",
   "execution_count": 75,
   "metadata": {},
   "outputs": [
    {
     "data": {
      "text/html": [
       "<table>\n",
       "<thead>\n",
       "<tr><th style=\"text-align: right;\">  predict</th></tr>\n",
       "</thead>\n",
       "<tbody>\n",
       "<tr><td style=\"text-align: right;\">        4</td></tr>\n",
       "<tr><td style=\"text-align: right;\">        4</td></tr>\n",
       "<tr><td style=\"text-align: right;\">        4</td></tr>\n",
       "<tr><td style=\"text-align: right;\">        4</td></tr>\n",
       "<tr><td style=\"text-align: right;\">        4</td></tr>\n",
       "<tr><td style=\"text-align: right;\">        1</td></tr>\n",
       "<tr><td style=\"text-align: right;\">        4</td></tr>\n",
       "<tr><td style=\"text-align: right;\">        4</td></tr>\n",
       "<tr><td style=\"text-align: right;\">        1</td></tr>\n",
       "<tr><td style=\"text-align: right;\">        4</td></tr>\n",
       "</tbody>\n",
       "</table>"
      ]
     },
     "metadata": {},
     "output_type": "display_data"
    },
    {
     "data": {
      "text/plain": []
     },
     "execution_count": 75,
     "metadata": {},
     "output_type": "execute_result"
    }
   ],
   "source": [
    "p"
   ]
  },
  {
   "cell_type": "markdown",
   "metadata": {},
   "source": [
    "K-means works well with cathegorical variables but doesn't work with high-dimensional data"
   ]
  }
 ],
 "metadata": {
  "kernelspec": {
   "display_name": "Python 3",
   "language": "python",
   "name": "python3"
  },
  "language_info": {
   "codemirror_mode": {
    "name": "ipython",
    "version": 3
   },
   "file_extension": ".py",
   "mimetype": "text/x-python",
   "name": "python",
   "nbconvert_exporter": "python",
   "pygments_lexer": "ipython3",
   "version": "3.7.3"
  }
 },
 "nbformat": 4,
 "nbformat_minor": 2
}
