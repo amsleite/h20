{
 "cells": [
  {
   "cell_type": "markdown",
   "metadata": {},
   "source": [
    "# 1. Importing dependencies "
   ]
  },
  {
   "cell_type": "code",
   "execution_count": 1,
   "metadata": {},
   "outputs": [],
   "source": [
    "import h2o\n",
    "import numpy as np\n",
    "import pandas as pd\n",
    "import matplotlib.pyplot as plt"
   ]
  },
  {
   "cell_type": "markdown",
   "metadata": {},
   "source": [
    "# 2. Starting H2O"
   ]
  },
  {
   "cell_type": "markdown",
   "metadata": {},
   "source": [
    "H2O will automatically check if an instance is already running and connect to"
   ]
  },
  {
   "cell_type": "code",
   "execution_count": 2,
   "metadata": {
    "scrolled": true
   },
   "outputs": [
    {
     "name": "stdout",
     "output_type": "stream",
     "text": [
      "Checking whether there is an H2O instance running at http://localhost:54321 . connected.\n"
     ]
    },
    {
     "data": {
      "text/html": [
       "<div style=\"overflow:auto\"><table style=\"width:50%\"><tr><td>H2O cluster uptime:</td>\n",
       "<td>2 hours 36 mins</td></tr>\n",
       "<tr><td>H2O cluster timezone:</td>\n",
       "<td>America/Sao_Paulo</td></tr>\n",
       "<tr><td>H2O data parsing timezone:</td>\n",
       "<td>UTC</td></tr>\n",
       "<tr><td>H2O cluster version:</td>\n",
       "<td>3.26.0.3</td></tr>\n",
       "<tr><td>H2O cluster version age:</td>\n",
       "<td>21 days, 12 hours and 27 minutes </td></tr>\n",
       "<tr><td>H2O cluster name:</td>\n",
       "<td>H2O_from_python_Semantix_zpo2sn</td></tr>\n",
       "<tr><td>H2O cluster total nodes:</td>\n",
       "<td>1</td></tr>\n",
       "<tr><td>H2O cluster free memory:</td>\n",
       "<td>3.279 Gb</td></tr>\n",
       "<tr><td>H2O cluster total cores:</td>\n",
       "<td>8</td></tr>\n",
       "<tr><td>H2O cluster allowed cores:</td>\n",
       "<td>8</td></tr>\n",
       "<tr><td>H2O cluster status:</td>\n",
       "<td>locked, healthy</td></tr>\n",
       "<tr><td>H2O connection url:</td>\n",
       "<td>http://localhost:54321</td></tr>\n",
       "<tr><td>H2O connection proxy:</td>\n",
       "<td>None</td></tr>\n",
       "<tr><td>H2O internal security:</td>\n",
       "<td>False</td></tr>\n",
       "<tr><td>H2O API Extensions:</td>\n",
       "<td>Amazon S3, Algos, AutoML, Core V3, Core V4</td></tr>\n",
       "<tr><td>Python version:</td>\n",
       "<td>3.7.3 final</td></tr></table></div>"
      ],
      "text/plain": [
       "--------------------------  ------------------------------------------\n",
       "H2O cluster uptime:         2 hours 36 mins\n",
       "H2O cluster timezone:       America/Sao_Paulo\n",
       "H2O data parsing timezone:  UTC\n",
       "H2O cluster version:        3.26.0.3\n",
       "H2O cluster version age:    21 days, 12 hours and 27 minutes\n",
       "H2O cluster name:           H2O_from_python_Semantix_zpo2sn\n",
       "H2O cluster total nodes:    1\n",
       "H2O cluster free memory:    3.279 Gb\n",
       "H2O cluster total cores:    8\n",
       "H2O cluster allowed cores:  8\n",
       "H2O cluster status:         locked, healthy\n",
       "H2O connection url:         http://localhost:54321\n",
       "H2O connection proxy:\n",
       "H2O internal security:      False\n",
       "H2O API Extensions:         Amazon S3, Algos, AutoML, Core V3, Core V4\n",
       "Python version:             3.7.3 final\n",
       "--------------------------  ------------------------------------------"
      ]
     },
     "metadata": {},
     "output_type": "display_data"
    }
   ],
   "source": [
    "h2o.init()"
   ]
  },
  {
   "cell_type": "markdown",
   "metadata": {},
   "source": [
    "# 3a. Importing synthetic dataset from local file"
   ]
  },
  {
   "cell_type": "code",
   "execution_count": 3,
   "metadata": {},
   "outputs": [],
   "source": [
    "people = pd.read_csv ('C:\\Intel\\people.csv')"
   ]
  },
  {
   "cell_type": "code",
   "execution_count": 4,
   "metadata": {},
   "outputs": [
    {
     "data": {
      "text/html": [
       "<div>\n",
       "<style scoped>\n",
       "    .dataframe tbody tr th:only-of-type {\n",
       "        vertical-align: middle;\n",
       "    }\n",
       "\n",
       "    .dataframe tbody tr th {\n",
       "        vertical-align: top;\n",
       "    }\n",
       "\n",
       "    .dataframe thead th {\n",
       "        text-align: right;\n",
       "    }\n",
       "</style>\n",
       "<table border=\"1\" class=\"dataframe\">\n",
       "  <thead>\n",
       "    <tr style=\"text-align: right;\">\n",
       "      <th></th>\n",
       "      <th>Unnamed: 0</th>\n",
       "      <th>id</th>\n",
       "      <th>bloodType</th>\n",
       "      <th>age</th>\n",
       "      <th>healthyEating</th>\n",
       "      <th>activeLifestyle</th>\n",
       "      <th>income</th>\n",
       "    </tr>\n",
       "  </thead>\n",
       "  <tbody>\n",
       "    <tr>\n",
       "      <th>0</th>\n",
       "      <td>1</td>\n",
       "      <td>1</td>\n",
       "      <td>A</td>\n",
       "      <td>31.516143</td>\n",
       "      <td>4</td>\n",
       "      <td>3</td>\n",
       "      <td>31300</td>\n",
       "    </tr>\n",
       "    <tr>\n",
       "      <th>1</th>\n",
       "      <td>2</td>\n",
       "      <td>2</td>\n",
       "      <td>A</td>\n",
       "      <td>55.050341</td>\n",
       "      <td>3</td>\n",
       "      <td>4</td>\n",
       "      <td>52500</td>\n",
       "    </tr>\n",
       "    <tr>\n",
       "      <th>2</th>\n",
       "      <td>3</td>\n",
       "      <td>3</td>\n",
       "      <td>O</td>\n",
       "      <td>37.221915</td>\n",
       "      <td>7</td>\n",
       "      <td>3</td>\n",
       "      <td>38700</td>\n",
       "    </tr>\n",
       "    <tr>\n",
       "      <th>3</th>\n",
       "      <td>4</td>\n",
       "      <td>4</td>\n",
       "      <td>O</td>\n",
       "      <td>59.501818</td>\n",
       "      <td>7</td>\n",
       "      <td>6</td>\n",
       "      <td>56800</td>\n",
       "    </tr>\n",
       "    <tr>\n",
       "      <th>4</th>\n",
       "      <td>5</td>\n",
       "      <td>5</td>\n",
       "      <td>O</td>\n",
       "      <td>62.201962</td>\n",
       "      <td>2</td>\n",
       "      <td>7</td>\n",
       "      <td>54900</td>\n",
       "    </tr>\n",
       "    <tr>\n",
       "      <th>5</th>\n",
       "      <td>6</td>\n",
       "      <td>6</td>\n",
       "      <td>AB</td>\n",
       "      <td>20.141155</td>\n",
       "      <td>5</td>\n",
       "      <td>9</td>\n",
       "      <td>23900</td>\n",
       "    </tr>\n",
       "    <tr>\n",
       "      <th>6</th>\n",
       "      <td>7</td>\n",
       "      <td>7</td>\n",
       "      <td>B</td>\n",
       "      <td>42.820958</td>\n",
       "      <td>3</td>\n",
       "      <td>6</td>\n",
       "      <td>37700</td>\n",
       "    </tr>\n",
       "    <tr>\n",
       "      <th>7</th>\n",
       "      <td>8</td>\n",
       "      <td>8</td>\n",
       "      <td>A</td>\n",
       "      <td>59.943695</td>\n",
       "      <td>1</td>\n",
       "      <td>3</td>\n",
       "      <td>54600</td>\n",
       "    </tr>\n",
       "    <tr>\n",
       "      <th>8</th>\n",
       "      <td>9</td>\n",
       "      <td>9</td>\n",
       "      <td>A</td>\n",
       "      <td>43.917446</td>\n",
       "      <td>5</td>\n",
       "      <td>7</td>\n",
       "      <td>41700</td>\n",
       "    </tr>\n",
       "    <tr>\n",
       "      <th>9</th>\n",
       "      <td>10</td>\n",
       "      <td>10</td>\n",
       "      <td>A</td>\n",
       "      <td>39.460893</td>\n",
       "      <td>5</td>\n",
       "      <td>7</td>\n",
       "      <td>35800</td>\n",
       "    </tr>\n",
       "    <tr>\n",
       "      <th>10</th>\n",
       "      <td>11</td>\n",
       "      <td>11</td>\n",
       "      <td>O</td>\n",
       "      <td>62.971167</td>\n",
       "      <td>5</td>\n",
       "      <td>5</td>\n",
       "      <td>58300</td>\n",
       "    </tr>\n",
       "    <tr>\n",
       "      <th>11</th>\n",
       "      <td>12</td>\n",
       "      <td>12</td>\n",
       "      <td>O</td>\n",
       "      <td>39.306705</td>\n",
       "      <td>5</td>\n",
       "      <td>2</td>\n",
       "      <td>40500</td>\n",
       "    </tr>\n",
       "    <tr>\n",
       "      <th>12</th>\n",
       "      <td>13</td>\n",
       "      <td>13</td>\n",
       "      <td>O</td>\n",
       "      <td>49.845820</td>\n",
       "      <td>7</td>\n",
       "      <td>7</td>\n",
       "      <td>46200</td>\n",
       "    </tr>\n",
       "    <tr>\n",
       "      <th>13</th>\n",
       "      <td>14</td>\n",
       "      <td>14</td>\n",
       "      <td>AB</td>\n",
       "      <td>44.913770</td>\n",
       "      <td>5</td>\n",
       "      <td>7</td>\n",
       "      <td>43400</td>\n",
       "    </tr>\n",
       "    <tr>\n",
       "      <th>14</th>\n",
       "      <td>15</td>\n",
       "      <td>15</td>\n",
       "      <td>B</td>\n",
       "      <td>22.837460</td>\n",
       "      <td>4</td>\n",
       "      <td>5</td>\n",
       "      <td>29400</td>\n",
       "    </tr>\n",
       "    <tr>\n",
       "      <th>15</th>\n",
       "      <td>16</td>\n",
       "      <td>16</td>\n",
       "      <td>A</td>\n",
       "      <td>60.291774</td>\n",
       "      <td>4</td>\n",
       "      <td>6</td>\n",
       "      <td>57800</td>\n",
       "    </tr>\n",
       "    <tr>\n",
       "      <th>16</th>\n",
       "      <td>17</td>\n",
       "      <td>17</td>\n",
       "      <td>A</td>\n",
       "      <td>29.566124</td>\n",
       "      <td>5</td>\n",
       "      <td>5</td>\n",
       "      <td>29400</td>\n",
       "    </tr>\n",
       "    <tr>\n",
       "      <th>17</th>\n",
       "      <td>18</td>\n",
       "      <td>18</td>\n",
       "      <td>A</td>\n",
       "      <td>19.976798</td>\n",
       "      <td>6</td>\n",
       "      <td>7</td>\n",
       "      <td>26100</td>\n",
       "    </tr>\n",
       "    <tr>\n",
       "      <th>18</th>\n",
       "      <td>19</td>\n",
       "      <td>19</td>\n",
       "      <td>O</td>\n",
       "      <td>33.412274</td>\n",
       "      <td>3</td>\n",
       "      <td>5</td>\n",
       "      <td>34800</td>\n",
       "    </tr>\n",
       "    <tr>\n",
       "      <th>19</th>\n",
       "      <td>20</td>\n",
       "      <td>20</td>\n",
       "      <td>O</td>\n",
       "      <td>62.861672</td>\n",
       "      <td>5</td>\n",
       "      <td>4</td>\n",
       "      <td>60100</td>\n",
       "    </tr>\n",
       "    <tr>\n",
       "      <th>20</th>\n",
       "      <td>21</td>\n",
       "      <td>21</td>\n",
       "      <td>O</td>\n",
       "      <td>59.808348</td>\n",
       "      <td>7</td>\n",
       "      <td>5</td>\n",
       "      <td>59100</td>\n",
       "    </tr>\n",
       "    <tr>\n",
       "      <th>21</th>\n",
       "      <td>22</td>\n",
       "      <td>22</td>\n",
       "      <td>AB</td>\n",
       "      <td>50.561760</td>\n",
       "      <td>5</td>\n",
       "      <td>4</td>\n",
       "      <td>49200</td>\n",
       "    </tr>\n",
       "    <tr>\n",
       "      <th>22</th>\n",
       "      <td>23</td>\n",
       "      <td>23</td>\n",
       "      <td>B</td>\n",
       "      <td>48.103820</td>\n",
       "      <td>4</td>\n",
       "      <td>4</td>\n",
       "      <td>45300</td>\n",
       "    </tr>\n",
       "    <tr>\n",
       "      <th>23</th>\n",
       "      <td>24</td>\n",
       "      <td>24</td>\n",
       "      <td>A</td>\n",
       "      <td>64.730680</td>\n",
       "      <td>4</td>\n",
       "      <td>4</td>\n",
       "      <td>60500</td>\n",
       "    </tr>\n",
       "    <tr>\n",
       "      <th>24</th>\n",
       "      <td>25</td>\n",
       "      <td>25</td>\n",
       "      <td>A</td>\n",
       "      <td>48.818173</td>\n",
       "      <td>7</td>\n",
       "      <td>5</td>\n",
       "      <td>46800</td>\n",
       "    </tr>\n",
       "    <tr>\n",
       "      <th>25</th>\n",
       "      <td>26</td>\n",
       "      <td>26</td>\n",
       "      <td>A</td>\n",
       "      <td>51.300932</td>\n",
       "      <td>6</td>\n",
       "      <td>5</td>\n",
       "      <td>46500</td>\n",
       "    </tr>\n",
       "    <tr>\n",
       "      <th>26</th>\n",
       "      <td>27</td>\n",
       "      <td>27</td>\n",
       "      <td>O</td>\n",
       "      <td>43.571103</td>\n",
       "      <td>7</td>\n",
       "      <td>8</td>\n",
       "      <td>39700</td>\n",
       "    </tr>\n",
       "    <tr>\n",
       "      <th>27</th>\n",
       "      <td>28</td>\n",
       "      <td>28</td>\n",
       "      <td>O</td>\n",
       "      <td>45.924675</td>\n",
       "      <td>5</td>\n",
       "      <td>2</td>\n",
       "      <td>45100</td>\n",
       "    </tr>\n",
       "    <tr>\n",
       "      <th>28</th>\n",
       "      <td>29</td>\n",
       "      <td>29</td>\n",
       "      <td>O</td>\n",
       "      <td>31.590508</td>\n",
       "      <td>6</td>\n",
       "      <td>5</td>\n",
       "      <td>33900</td>\n",
       "    </tr>\n",
       "    <tr>\n",
       "      <th>29</th>\n",
       "      <td>30</td>\n",
       "      <td>30</td>\n",
       "      <td>AB</td>\n",
       "      <td>24.914341</td>\n",
       "      <td>4</td>\n",
       "      <td>7</td>\n",
       "      <td>29400</td>\n",
       "    </tr>\n",
       "    <tr>\n",
       "      <th>...</th>\n",
       "      <td>...</td>\n",
       "      <td>...</td>\n",
       "      <td>...</td>\n",
       "      <td>...</td>\n",
       "      <td>...</td>\n",
       "      <td>...</td>\n",
       "      <td>...</td>\n",
       "    </tr>\n",
       "    <tr>\n",
       "      <th>970</th>\n",
       "      <td>971</td>\n",
       "      <td>971</td>\n",
       "      <td>O</td>\n",
       "      <td>54.752539</td>\n",
       "      <td>4</td>\n",
       "      <td>2</td>\n",
       "      <td>49600</td>\n",
       "    </tr>\n",
       "    <tr>\n",
       "      <th>971</th>\n",
       "      <td>972</td>\n",
       "      <td>972</td>\n",
       "      <td>O</td>\n",
       "      <td>20.163248</td>\n",
       "      <td>2</td>\n",
       "      <td>5</td>\n",
       "      <td>27900</td>\n",
       "    </tr>\n",
       "    <tr>\n",
       "      <th>972</th>\n",
       "      <td>973</td>\n",
       "      <td>973</td>\n",
       "      <td>O</td>\n",
       "      <td>56.532699</td>\n",
       "      <td>3</td>\n",
       "      <td>7</td>\n",
       "      <td>50500</td>\n",
       "    </tr>\n",
       "    <tr>\n",
       "      <th>973</th>\n",
       "      <td>974</td>\n",
       "      <td>974</td>\n",
       "      <td>AB</td>\n",
       "      <td>30.662197</td>\n",
       "      <td>5</td>\n",
       "      <td>5</td>\n",
       "      <td>30100</td>\n",
       "    </tr>\n",
       "    <tr>\n",
       "      <th>974</th>\n",
       "      <td>975</td>\n",
       "      <td>975</td>\n",
       "      <td>B</td>\n",
       "      <td>31.293969</td>\n",
       "      <td>1</td>\n",
       "      <td>2</td>\n",
       "      <td>32600</td>\n",
       "    </tr>\n",
       "    <tr>\n",
       "      <th>975</th>\n",
       "      <td>976</td>\n",
       "      <td>976</td>\n",
       "      <td>A</td>\n",
       "      <td>48.231413</td>\n",
       "      <td>2</td>\n",
       "      <td>6</td>\n",
       "      <td>40800</td>\n",
       "    </tr>\n",
       "    <tr>\n",
       "      <th>976</th>\n",
       "      <td>977</td>\n",
       "      <td>977</td>\n",
       "      <td>A</td>\n",
       "      <td>62.561585</td>\n",
       "      <td>7</td>\n",
       "      <td>6</td>\n",
       "      <td>59600</td>\n",
       "    </tr>\n",
       "    <tr>\n",
       "      <th>977</th>\n",
       "      <td>978</td>\n",
       "      <td>978</td>\n",
       "      <td>A</td>\n",
       "      <td>18.328927</td>\n",
       "      <td>4</td>\n",
       "      <td>5</td>\n",
       "      <td>26800</td>\n",
       "    </tr>\n",
       "    <tr>\n",
       "      <th>978</th>\n",
       "      <td>979</td>\n",
       "      <td>979</td>\n",
       "      <td>O</td>\n",
       "      <td>34.526031</td>\n",
       "      <td>1</td>\n",
       "      <td>5</td>\n",
       "      <td>32600</td>\n",
       "    </tr>\n",
       "    <tr>\n",
       "      <th>979</th>\n",
       "      <td>980</td>\n",
       "      <td>980</td>\n",
       "      <td>O</td>\n",
       "      <td>37.695149</td>\n",
       "      <td>5</td>\n",
       "      <td>8</td>\n",
       "      <td>35400</td>\n",
       "    </tr>\n",
       "    <tr>\n",
       "      <th>980</th>\n",
       "      <td>981</td>\n",
       "      <td>981</td>\n",
       "      <td>O</td>\n",
       "      <td>39.520209</td>\n",
       "      <td>8</td>\n",
       "      <td>8</td>\n",
       "      <td>40300</td>\n",
       "    </tr>\n",
       "    <tr>\n",
       "      <th>981</th>\n",
       "      <td>982</td>\n",
       "      <td>982</td>\n",
       "      <td>AB</td>\n",
       "      <td>51.449551</td>\n",
       "      <td>6</td>\n",
       "      <td>4</td>\n",
       "      <td>46800</td>\n",
       "    </tr>\n",
       "    <tr>\n",
       "      <th>982</th>\n",
       "      <td>983</td>\n",
       "      <td>983</td>\n",
       "      <td>B</td>\n",
       "      <td>61.232859</td>\n",
       "      <td>6</td>\n",
       "      <td>5</td>\n",
       "      <td>55300</td>\n",
       "    </tr>\n",
       "    <tr>\n",
       "      <th>983</th>\n",
       "      <td>984</td>\n",
       "      <td>984</td>\n",
       "      <td>A</td>\n",
       "      <td>47.474203</td>\n",
       "      <td>7</td>\n",
       "      <td>2</td>\n",
       "      <td>44600</td>\n",
       "    </tr>\n",
       "    <tr>\n",
       "      <th>984</th>\n",
       "      <td>985</td>\n",
       "      <td>985</td>\n",
       "      <td>A</td>\n",
       "      <td>60.402544</td>\n",
       "      <td>3</td>\n",
       "      <td>4</td>\n",
       "      <td>54700</td>\n",
       "    </tr>\n",
       "    <tr>\n",
       "      <th>985</th>\n",
       "      <td>986</td>\n",
       "      <td>986</td>\n",
       "      <td>A</td>\n",
       "      <td>53.594470</td>\n",
       "      <td>6</td>\n",
       "      <td>9</td>\n",
       "      <td>50700</td>\n",
       "    </tr>\n",
       "    <tr>\n",
       "      <th>986</th>\n",
       "      <td>987</td>\n",
       "      <td>987</td>\n",
       "      <td>O</td>\n",
       "      <td>24.479343</td>\n",
       "      <td>4</td>\n",
       "      <td>9</td>\n",
       "      <td>27500</td>\n",
       "    </tr>\n",
       "    <tr>\n",
       "      <th>987</th>\n",
       "      <td>988</td>\n",
       "      <td>988</td>\n",
       "      <td>O</td>\n",
       "      <td>25.202979</td>\n",
       "      <td>5</td>\n",
       "      <td>6</td>\n",
       "      <td>27100</td>\n",
       "    </tr>\n",
       "    <tr>\n",
       "      <th>988</th>\n",
       "      <td>989</td>\n",
       "      <td>989</td>\n",
       "      <td>O</td>\n",
       "      <td>26.991673</td>\n",
       "      <td>9</td>\n",
       "      <td>5</td>\n",
       "      <td>30600</td>\n",
       "    </tr>\n",
       "    <tr>\n",
       "      <th>989</th>\n",
       "      <td>990</td>\n",
       "      <td>990</td>\n",
       "      <td>AB</td>\n",
       "      <td>38.359702</td>\n",
       "      <td>7</td>\n",
       "      <td>2</td>\n",
       "      <td>36600</td>\n",
       "    </tr>\n",
       "    <tr>\n",
       "      <th>990</th>\n",
       "      <td>991</td>\n",
       "      <td>991</td>\n",
       "      <td>B</td>\n",
       "      <td>22.099307</td>\n",
       "      <td>7</td>\n",
       "      <td>9</td>\n",
       "      <td>29500</td>\n",
       "    </tr>\n",
       "    <tr>\n",
       "      <th>991</th>\n",
       "      <td>992</td>\n",
       "      <td>992</td>\n",
       "      <td>A</td>\n",
       "      <td>28.517660</td>\n",
       "      <td>3</td>\n",
       "      <td>6</td>\n",
       "      <td>27300</td>\n",
       "    </tr>\n",
       "    <tr>\n",
       "      <th>992</th>\n",
       "      <td>993</td>\n",
       "      <td>993</td>\n",
       "      <td>A</td>\n",
       "      <td>44.890988</td>\n",
       "      <td>3</td>\n",
       "      <td>4</td>\n",
       "      <td>40100</td>\n",
       "    </tr>\n",
       "    <tr>\n",
       "      <th>993</th>\n",
       "      <td>994</td>\n",
       "      <td>994</td>\n",
       "      <td>A</td>\n",
       "      <td>36.807951</td>\n",
       "      <td>9</td>\n",
       "      <td>7</td>\n",
       "      <td>37100</td>\n",
       "    </tr>\n",
       "    <tr>\n",
       "      <th>994</th>\n",
       "      <td>995</td>\n",
       "      <td>995</td>\n",
       "      <td>O</td>\n",
       "      <td>44.576873</td>\n",
       "      <td>3</td>\n",
       "      <td>3</td>\n",
       "      <td>40200</td>\n",
       "    </tr>\n",
       "    <tr>\n",
       "      <th>995</th>\n",
       "      <td>996</td>\n",
       "      <td>996</td>\n",
       "      <td>O</td>\n",
       "      <td>56.992322</td>\n",
       "      <td>5</td>\n",
       "      <td>6</td>\n",
       "      <td>54300</td>\n",
       "    </tr>\n",
       "    <tr>\n",
       "      <th>996</th>\n",
       "      <td>997</td>\n",
       "      <td>997</td>\n",
       "      <td>O</td>\n",
       "      <td>48.179350</td>\n",
       "      <td>7</td>\n",
       "      <td>8</td>\n",
       "      <td>46400</td>\n",
       "    </tr>\n",
       "    <tr>\n",
       "      <th>997</th>\n",
       "      <td>998</td>\n",
       "      <td>998</td>\n",
       "      <td>AB</td>\n",
       "      <td>36.400441</td>\n",
       "      <td>7</td>\n",
       "      <td>5</td>\n",
       "      <td>38400</td>\n",
       "    </tr>\n",
       "    <tr>\n",
       "      <th>998</th>\n",
       "      <td>999</td>\n",
       "      <td>999</td>\n",
       "      <td>B</td>\n",
       "      <td>51.350253</td>\n",
       "      <td>7</td>\n",
       "      <td>8</td>\n",
       "      <td>48800</td>\n",
       "    </tr>\n",
       "    <tr>\n",
       "      <th>999</th>\n",
       "      <td>1000</td>\n",
       "      <td>1000</td>\n",
       "      <td>A</td>\n",
       "      <td>23.114731</td>\n",
       "      <td>5</td>\n",
       "      <td>7</td>\n",
       "      <td>29700</td>\n",
       "    </tr>\n",
       "  </tbody>\n",
       "</table>\n",
       "<p>1000 rows × 7 columns</p>\n",
       "</div>"
      ],
      "text/plain": [
       "     Unnamed: 0    id bloodType        age  healthyEating  activeLifestyle  \\\n",
       "0             1     1         A  31.516143              4                3   \n",
       "1             2     2         A  55.050341              3                4   \n",
       "2             3     3         O  37.221915              7                3   \n",
       "3             4     4         O  59.501818              7                6   \n",
       "4             5     5         O  62.201962              2                7   \n",
       "5             6     6        AB  20.141155              5                9   \n",
       "6             7     7         B  42.820958              3                6   \n",
       "7             8     8         A  59.943695              1                3   \n",
       "8             9     9         A  43.917446              5                7   \n",
       "9            10    10         A  39.460893              5                7   \n",
       "10           11    11         O  62.971167              5                5   \n",
       "11           12    12         O  39.306705              5                2   \n",
       "12           13    13         O  49.845820              7                7   \n",
       "13           14    14        AB  44.913770              5                7   \n",
       "14           15    15         B  22.837460              4                5   \n",
       "15           16    16         A  60.291774              4                6   \n",
       "16           17    17         A  29.566124              5                5   \n",
       "17           18    18         A  19.976798              6                7   \n",
       "18           19    19         O  33.412274              3                5   \n",
       "19           20    20         O  62.861672              5                4   \n",
       "20           21    21         O  59.808348              7                5   \n",
       "21           22    22        AB  50.561760              5                4   \n",
       "22           23    23         B  48.103820              4                4   \n",
       "23           24    24         A  64.730680              4                4   \n",
       "24           25    25         A  48.818173              7                5   \n",
       "25           26    26         A  51.300932              6                5   \n",
       "26           27    27         O  43.571103              7                8   \n",
       "27           28    28         O  45.924675              5                2   \n",
       "28           29    29         O  31.590508              6                5   \n",
       "29           30    30        AB  24.914341              4                7   \n",
       "..          ...   ...       ...        ...            ...              ...   \n",
       "970         971   971         O  54.752539              4                2   \n",
       "971         972   972         O  20.163248              2                5   \n",
       "972         973   973         O  56.532699              3                7   \n",
       "973         974   974        AB  30.662197              5                5   \n",
       "974         975   975         B  31.293969              1                2   \n",
       "975         976   976         A  48.231413              2                6   \n",
       "976         977   977         A  62.561585              7                6   \n",
       "977         978   978         A  18.328927              4                5   \n",
       "978         979   979         O  34.526031              1                5   \n",
       "979         980   980         O  37.695149              5                8   \n",
       "980         981   981         O  39.520209              8                8   \n",
       "981         982   982        AB  51.449551              6                4   \n",
       "982         983   983         B  61.232859              6                5   \n",
       "983         984   984         A  47.474203              7                2   \n",
       "984         985   985         A  60.402544              3                4   \n",
       "985         986   986         A  53.594470              6                9   \n",
       "986         987   987         O  24.479343              4                9   \n",
       "987         988   988         O  25.202979              5                6   \n",
       "988         989   989         O  26.991673              9                5   \n",
       "989         990   990        AB  38.359702              7                2   \n",
       "990         991   991         B  22.099307              7                9   \n",
       "991         992   992         A  28.517660              3                6   \n",
       "992         993   993         A  44.890988              3                4   \n",
       "993         994   994         A  36.807951              9                7   \n",
       "994         995   995         O  44.576873              3                3   \n",
       "995         996   996         O  56.992322              5                6   \n",
       "996         997   997         O  48.179350              7                8   \n",
       "997         998   998        AB  36.400441              7                5   \n",
       "998         999   999         B  51.350253              7                8   \n",
       "999        1000  1000         A  23.114731              5                7   \n",
       "\n",
       "     income  \n",
       "0     31300  \n",
       "1     52500  \n",
       "2     38700  \n",
       "3     56800  \n",
       "4     54900  \n",
       "5     23900  \n",
       "6     37700  \n",
       "7     54600  \n",
       "8     41700  \n",
       "9     35800  \n",
       "10    58300  \n",
       "11    40500  \n",
       "12    46200  \n",
       "13    43400  \n",
       "14    29400  \n",
       "15    57800  \n",
       "16    29400  \n",
       "17    26100  \n",
       "18    34800  \n",
       "19    60100  \n",
       "20    59100  \n",
       "21    49200  \n",
       "22    45300  \n",
       "23    60500  \n",
       "24    46800  \n",
       "25    46500  \n",
       "26    39700  \n",
       "27    45100  \n",
       "28    33900  \n",
       "29    29400  \n",
       "..      ...  \n",
       "970   49600  \n",
       "971   27900  \n",
       "972   50500  \n",
       "973   30100  \n",
       "974   32600  \n",
       "975   40800  \n",
       "976   59600  \n",
       "977   26800  \n",
       "978   32600  \n",
       "979   35400  \n",
       "980   40300  \n",
       "981   46800  \n",
       "982   55300  \n",
       "983   44600  \n",
       "984   54700  \n",
       "985   50700  \n",
       "986   27500  \n",
       "987   27100  \n",
       "988   30600  \n",
       "989   36600  \n",
       "990   29500  \n",
       "991   27300  \n",
       "992   40100  \n",
       "993   37100  \n",
       "994   40200  \n",
       "995   54300  \n",
       "996   46400  \n",
       "997   38400  \n",
       "998   48800  \n",
       "999   29700  \n",
       "\n",
       "[1000 rows x 7 columns]"
      ]
     },
     "execution_count": 4,
     "metadata": {},
     "output_type": "execute_result"
    }
   ],
   "source": [
    "people"
   ]
  },
  {
   "cell_type": "markdown",
   "metadata": {},
   "source": [
    "# 3b. Importing synthetic dataset from H2O (if already there)"
   ]
  },
  {
   "cell_type": "code",
   "execution_count": 5,
   "metadata": {},
   "outputs": [],
   "source": [
    "people = h2o.get_frame(\"people.hex\")"
   ]
  },
  {
   "cell_type": "code",
   "execution_count": 6,
   "metadata": {},
   "outputs": [
    {
     "data": {
      "text/html": [
       "<table>\n",
       "<thead>\n",
       "<tr><th style=\"text-align: right;\">  C1</th><th style=\"text-align: right;\">  id</th><th>bloodType  </th><th style=\"text-align: right;\">    age</th><th style=\"text-align: right;\">  healthyEating</th><th style=\"text-align: right;\">  activeLifestyle</th><th style=\"text-align: right;\">  income</th></tr>\n",
       "</thead>\n",
       "<tbody>\n",
       "<tr><td style=\"text-align: right;\">   1</td><td style=\"text-align: right;\">   1</td><td>A          </td><td style=\"text-align: right;\">31.5161</td><td style=\"text-align: right;\">              4</td><td style=\"text-align: right;\">                3</td><td style=\"text-align: right;\">   31300</td></tr>\n",
       "<tr><td style=\"text-align: right;\">   2</td><td style=\"text-align: right;\">   2</td><td>A          </td><td style=\"text-align: right;\">55.0503</td><td style=\"text-align: right;\">              3</td><td style=\"text-align: right;\">                4</td><td style=\"text-align: right;\">   52500</td></tr>\n",
       "<tr><td style=\"text-align: right;\">   3</td><td style=\"text-align: right;\">   3</td><td>O          </td><td style=\"text-align: right;\">37.2219</td><td style=\"text-align: right;\">              7</td><td style=\"text-align: right;\">                3</td><td style=\"text-align: right;\">   38700</td></tr>\n",
       "<tr><td style=\"text-align: right;\">   4</td><td style=\"text-align: right;\">   4</td><td>O          </td><td style=\"text-align: right;\">59.5018</td><td style=\"text-align: right;\">              7</td><td style=\"text-align: right;\">                6</td><td style=\"text-align: right;\">   56800</td></tr>\n",
       "<tr><td style=\"text-align: right;\">   5</td><td style=\"text-align: right;\">   5</td><td>O          </td><td style=\"text-align: right;\">62.202 </td><td style=\"text-align: right;\">              2</td><td style=\"text-align: right;\">                7</td><td style=\"text-align: right;\">   54900</td></tr>\n",
       "<tr><td style=\"text-align: right;\">   6</td><td style=\"text-align: right;\">   6</td><td>AB         </td><td style=\"text-align: right;\">20.1412</td><td style=\"text-align: right;\">              5</td><td style=\"text-align: right;\">                9</td><td style=\"text-align: right;\">   23900</td></tr>\n",
       "<tr><td style=\"text-align: right;\">   7</td><td style=\"text-align: right;\">   7</td><td>B          </td><td style=\"text-align: right;\">42.821 </td><td style=\"text-align: right;\">              3</td><td style=\"text-align: right;\">                6</td><td style=\"text-align: right;\">   37700</td></tr>\n",
       "<tr><td style=\"text-align: right;\">   8</td><td style=\"text-align: right;\">   8</td><td>A          </td><td style=\"text-align: right;\">59.9437</td><td style=\"text-align: right;\">              1</td><td style=\"text-align: right;\">                3</td><td style=\"text-align: right;\">   54600</td></tr>\n",
       "<tr><td style=\"text-align: right;\">   9</td><td style=\"text-align: right;\">   9</td><td>A          </td><td style=\"text-align: right;\">43.9174</td><td style=\"text-align: right;\">              5</td><td style=\"text-align: right;\">                7</td><td style=\"text-align: right;\">   41700</td></tr>\n",
       "<tr><td style=\"text-align: right;\">  10</td><td style=\"text-align: right;\">  10</td><td>A          </td><td style=\"text-align: right;\">39.4609</td><td style=\"text-align: right;\">              5</td><td style=\"text-align: right;\">                7</td><td style=\"text-align: right;\">   35800</td></tr>\n",
       "</tbody>\n",
       "</table>"
      ]
     },
     "metadata": {},
     "output_type": "display_data"
    },
    {
     "data": {
      "text/plain": []
     },
     "execution_count": 6,
     "metadata": {},
     "output_type": "execute_result"
    }
   ],
   "source": [
    "people"
   ]
  },
  {
   "cell_type": "markdown",
   "metadata": {},
   "source": [
    "# 4. Splitting the dataset"
   ]
  },
  {
   "cell_type": "markdown",
   "metadata": {},
   "source": [
    "We create three subset: train, validation and test dataset"
   ]
  },
  {
   "cell_type": "code",
   "execution_count": 28,
   "metadata": {},
   "outputs": [],
   "source": [
    "train, valid, test = people.split_frame(\n",
    "    ratios = [0.8, 0.1],\n",
    "    destination_frames = [\"people_train\", \"people_valid\", \"people_test\"],\n",
    "    seed = 123\n",
    "    )"
   ]
  },
  {
   "cell_type": "markdown",
   "metadata": {},
   "source": [
    "Let's take a look at the size of the three sets"
   ]
  },
  {
   "cell_type": "code",
   "execution_count": 8,
   "metadata": {},
   "outputs": [
    {
     "name": "stdout",
     "output_type": "stream",
     "text": [
      "788/118/94\n"
     ]
    }
   ],
   "source": [
    "print(\"%d/%d/%d\" % (train.nrows, valid.nrows, test.nrows))"
   ]
  },
  {
   "cell_type": "markdown",
   "metadata": {},
   "source": [
    "# 5. Retrieving H2O Frame "
   ]
  },
  {
   "cell_type": "markdown",
   "metadata": {},
   "source": [
    "We can now import the three dataframes from the H2O cluster"
   ]
  },
  {
   "cell_type": "code",
   "execution_count": 9,
   "metadata": {},
   "outputs": [],
   "source": [
    "train = h2o.get_frame(\"people_train\")\n",
    "valid = h2o.get_frame(\"people_valid\")\n",
    "test =  h2o.get_frame(\"people_test\")"
   ]
  },
  {
   "cell_type": "markdown",
   "metadata": {},
   "source": [
    "# 6. Running a GBM model "
   ]
  },
  {
   "cell_type": "code",
   "execution_count": 10,
   "metadata": {},
   "outputs": [],
   "source": [
    "from h2o.estimators.gbm import H2OGradientBoostingEstimator"
   ]
  },
  {
   "cell_type": "code",
   "execution_count": 11,
   "metadata": {},
   "outputs": [],
   "source": [
    "y = \"income\"\n",
    "ignoreFields = [y, \"id\"]\n",
    "x = [i for i in train.names if i not in ignoreFields]"
   ]
  },
  {
   "cell_type": "code",
   "execution_count": 12,
   "metadata": {},
   "outputs": [
    {
     "name": "stdout",
     "output_type": "stream",
     "text": [
      "gbm Model Build progress: |███████████████████████████████████████████████| 100%\n"
     ]
    }
   ],
   "source": [
    "m1 = H2OGradientBoostingEstimator(model_id = \"defaults\")\n",
    "m1.train(x, y, train, \n",
    "        validation_frame = valid)"
   ]
  },
  {
   "cell_type": "markdown",
   "metadata": {},
   "source": [
    "let's look at the MAE performance of our model on the three dataset"
   ]
  },
  {
   "cell_type": "code",
   "execution_count": 13,
   "metadata": {},
   "outputs": [
    {
     "data": {
      "text/plain": [
       "844.115231896415"
      ]
     },
     "execution_count": 13,
     "metadata": {},
     "output_type": "execute_result"
    }
   ],
   "source": [
    "m1.mae(train=True)"
   ]
  },
  {
   "cell_type": "code",
   "execution_count": 14,
   "metadata": {},
   "outputs": [
    {
     "data": {
      "text/plain": [
       "1412.689692125053"
      ]
     },
     "execution_count": 14,
     "metadata": {},
     "output_type": "execute_result"
    }
   ],
   "source": [
    "m1.mae(valid=True)"
   ]
  },
  {
   "cell_type": "code",
   "execution_count": 15,
   "metadata": {},
   "outputs": [
    {
     "name": "stdout",
     "output_type": "stream",
     "text": [
      "\n",
      "ModelMetricsRegression: gbm\n",
      "** Reported on test data. **\n",
      "\n",
      "MSE: 2381694.5886023785\n",
      "RMSE: 1543.273983647226\n",
      "MAE: 1328.2845678162523\n",
      "RMSLE: 0.041702167209093526\n",
      "Mean Residual Deviance: 2381694.5886023785\n"
     ]
    },
    {
     "data": {
      "text/plain": [
       "<bound method MetricsBase.mae of >"
      ]
     },
     "execution_count": 15,
     "metadata": {},
     "output_type": "execute_result"
    }
   ],
   "source": [
    "perf = m1.model_performance(test)\n",
    "perf.mae"
   ]
  },
  {
   "cell_type": "markdown",
   "metadata": {},
   "source": [
    "# 7. Let's overfit the data "
   ]
  },
  {
   "cell_type": "markdown",
   "metadata": {},
   "source": [
    "We now bump up the number of trees and max_depth to overfit the data"
   ]
  },
  {
   "cell_type": "code",
   "execution_count": 16,
   "metadata": {},
   "outputs": [
    {
     "name": "stdout",
     "output_type": "stream",
     "text": [
      "gbm Model Build progress: |███████████████████████████████████████████████| 100%\n"
     ]
    }
   ],
   "source": [
    "m2 = H2OGradientBoostingEstimator(model_id = \"overfit\", \n",
    "                                 ntrees = 1000,\n",
    "                                 max_depth = 10)\n",
    "m2.train(x, y, train, \n",
    "        validation_frame = valid)"
   ]
  },
  {
   "cell_type": "code",
   "execution_count": 17,
   "metadata": {},
   "outputs": [
    {
     "name": "stdout",
     "output_type": "stream",
     "text": [
      "Train: 844 --> 22\n",
      "Valid: 1412 --> 1582\n",
      " Test: 1328 --> 1490\n"
     ]
    }
   ],
   "source": [
    "print(\"Train: %d --> %d\"% (m1.mae(train=True), m2.mae(train=True)))\n",
    "print(\"Valid: %d --> %d\"% (m1.mae(valid=True), m2.mae(valid=True)))\n",
    "print(\" Test: %d --> %d\"% (perf.mae(), m2.model_performance(test).mae()))"
   ]
  },
  {
   "cell_type": "markdown",
   "metadata": {},
   "source": [
    "# 8. Crossvalidation"
   ]
  },
  {
   "cell_type": "markdown",
   "metadata": {},
   "source": [
    "An alternative approach to split the data (instead of train/valid/test) is to use cross-validation "
   ]
  },
  {
   "cell_type": "code",
   "execution_count": 18,
   "metadata": {},
   "outputs": [],
   "source": [
    "train, test = people.split_frame(\n",
    "    ratios = [0.897],\n",
    "    destination_frames = [\"people_train\", \"people_test\"],\n",
    "    seed = 123\n",
    "    )"
   ]
  },
  {
   "cell_type": "code",
   "execution_count": 19,
   "metadata": {},
   "outputs": [
    {
     "name": "stdout",
     "output_type": "stream",
     "text": [
      "900/100\n"
     ]
    }
   ],
   "source": [
    "print(\"%d/%d\" % (train.nrows, test.nrows))"
   ]
  },
  {
   "cell_type": "code",
   "execution_count": 20,
   "metadata": {},
   "outputs": [],
   "source": [
    "from h2o.estimators.gbm import H2OGradientBoostingEstimator"
   ]
  },
  {
   "cell_type": "code",
   "execution_count": 21,
   "metadata": {},
   "outputs": [],
   "source": [
    "y = \"income\"\n",
    "ignoredFields = [y, \"id\"]\n",
    "x = [i for i in train.names if i not in ignoreFields]"
   ]
  },
  {
   "cell_type": "code",
   "execution_count": 22,
   "metadata": {},
   "outputs": [
    {
     "name": "stdout",
     "output_type": "stream",
     "text": [
      "gbm Model Build progress: |███████████████████████████████████████████████| 100%\n"
     ]
    }
   ],
   "source": [
    "m3 = H2OGradientBoostingEstimator(model_id = \"def9folds\", \n",
    "                                  nfolds = 9)\n",
    "m3.train(x, y, train)"
   ]
  },
  {
   "cell_type": "code",
   "execution_count": 23,
   "metadata": {},
   "outputs": [
    {
     "data": {
      "text/plain": [
       "908.9596506076389"
      ]
     },
     "execution_count": 23,
     "metadata": {},
     "output_type": "execute_result"
    }
   ],
   "source": [
    "m3.mae(train=True)"
   ]
  },
  {
   "cell_type": "code",
   "execution_count": 24,
   "metadata": {},
   "outputs": [
    {
     "data": {
      "text/plain": [
       "1328.8341969124283"
      ]
     },
     "execution_count": 24,
     "metadata": {},
     "output_type": "execute_result"
    }
   ],
   "source": [
    "m3.mae(xval=True)"
   ]
  },
  {
   "cell_type": "code",
   "execution_count": 25,
   "metadata": {},
   "outputs": [
    {
     "data": {
      "text/plain": [
       "1284.04442177443"
      ]
     },
     "execution_count": 25,
     "metadata": {},
     "output_type": "execute_result"
    }
   ],
   "source": [
    "perf = m3.model_performance(test)\n",
    "perf.mae()"
   ]
  },
  {
   "cell_type": "markdown",
   "metadata": {},
   "source": [
    "this done has done better than the previous model - probably because it has trained with more training data. Still have overfitting but not as much"
   ]
  },
  {
   "cell_type": "markdown",
   "metadata": {},
   "source": [
    "# 9. Let's overfit the model with cross-validation"
   ]
  },
  {
   "cell_type": "markdown",
   "metadata": {},
   "source": [
    "We'll increase the number of trees and max_depth"
   ]
  },
  {
   "cell_type": "code",
   "execution_count": 26,
   "metadata": {},
   "outputs": [
    {
     "name": "stdout",
     "output_type": "stream",
     "text": [
      "gbm Model Build progress: |███████████████████████████████████████████████| 100%\n"
     ]
    }
   ],
   "source": [
    "m4 = H2OGradientBoostingEstimator(model_id = \"overfit\", \n",
    "                                 ntrees = 1000,\n",
    "                                 max_depth = 10,\n",
    "                                 nfolds = 9)\n",
    "m4.train(x, y, train, \n",
    "        validation_frame = valid)"
   ]
  },
  {
   "cell_type": "code",
   "execution_count": 27,
   "metadata": {},
   "outputs": [
    {
     "name": "stdout",
     "output_type": "stream",
     "text": [
      "Train: 908 --> 27\n",
      "Valid: 1328 --> 1429\n",
      " Test: 1284 --> 1423\n"
     ]
    }
   ],
   "source": [
    "print(\"Train: %d --> %d\"% (m3.mae(train=True), m4.mae(train=True)))\n",
    "print(\"Valid: %d --> %d\"% (m3.mae(xval=True), m4.mae(xval=True)))\n",
    "print(\" Test: %d --> %d\"% (perf.mae(), m4.model_performance(test).mae()))"
   ]
  },
  {
   "cell_type": "markdown",
   "metadata": {},
   "source": [
    "# 10. Conclusions "
   ]
  },
  {
   "cell_type": "markdown",
   "metadata": {},
   "source": [
    "Cross-validation is a better way to build prediction at the cost of training time"
   ]
  },
  {
   "cell_type": "markdown",
   "metadata": {},
   "source": [
    "We can still run into overfitting if we're not careful"
   ]
  }
 ],
 "metadata": {
  "kernelspec": {
   "display_name": "Python 3",
   "language": "python",
   "name": "python3"
  },
  "language_info": {
   "codemirror_mode": {
    "name": "ipython",
    "version": 3
   },
   "file_extension": ".py",
   "mimetype": "text/x-python",
   "name": "python",
   "nbconvert_exporter": "python",
   "pygments_lexer": "ipython3",
   "version": "3.7.3"
  }
 },
 "nbformat": 4,
 "nbformat_minor": 2
}
